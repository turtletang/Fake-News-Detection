{
 "cells": [
  {
   "cell_type": "code",
   "execution_count": 3,
   "id": "38ed262b-d7be-454f-a611-919a1f7d01bf",
   "metadata": {},
   "outputs": [
    {
     "name": "stderr",
     "output_type": "stream",
     "text": [
      "[nltk_data] Downloading package stopwords to\n",
      "[nltk_data]     C:\\Users\\lxy99\\AppData\\Roaming\\nltk_data...\n",
      "[nltk_data]   Package stopwords is already up-to-date!\n"
     ]
    }
   ],
   "source": [
    "import numpy as np\n",
    "import pandas as pd\n",
    "import re\n",
    "import nltk\n",
    "from nltk.corpus import stopwords\n",
    "from nltk.stem.porter import PorterStemmer\n",
    "from sklearn.feature_extraction.text import TfidfVectorizer\n",
    "from sklearn.model_selection import train_test_split\n",
    "from sklearn.svm import SVC\n",
    "from sklearn.metrics import accuracy_score\n",
    "from nltk.stem.porter import PorterStemmer\n",
    "from sklearn.metrics import confusion_matrix\n",
    "from sklearn.metrics import classification_report\n",
    "import tensorflow as tf\n",
    "from tensorflow.keras.layers import Embedding\n",
    "from tensorflow.keras.preprocessing.sequence import pad_sequences\n",
    "from tensorflow.keras.models import Sequential\n",
    "from tensorflow.keras.preprocessing.text import one_hot\n",
    "from tensorflow.keras.layers import Dropout\n",
    "from tensorflow.keras.layers import LSTM, SimpleRNN, Bidirectional\n",
    "from tensorflow.keras.layers import Dense\n",
    "from keras.callbacks import EarlyStopping\n",
    "nltk.download('stopwords')\n",
    "import unittest\n",
    "import os\n",
    "from io import StringIO"
   ]
  },
  {
   "cell_type": "markdown",
   "id": "9e1d7948-b92e-4432-b00c-182a97fa71c8",
   "metadata": {},
   "source": [
    "# Load Dataset"
   ]
  },
  {
   "cell_type": "code",
   "execution_count": 6,
   "id": "1daad524-cabd-4338-b0c4-7d38c53158b3",
   "metadata": {},
   "outputs": [
    {
     "name": "stdout",
     "output_type": "stream",
     "text": [
      "Data shape: (20800, 5)\n",
      "   id                                              title              author  \\\n",
      "0   0  House Dem Aide: We Didn’t Even See Comey’s Let...       Darrell Lucus   \n",
      "1   1  FLYNN: Hillary Clinton, Big Woman on Campus - ...     Daniel J. Flynn   \n",
      "2   2                  Why the Truth Might Get You Fired  Consortiumnews.com   \n",
      "3   3  15 Civilians Killed In Single US Airstrike Hav...     Jessica Purkiss   \n",
      "4   4  Iranian woman jailed for fictional unpublished...      Howard Portnoy   \n",
      "\n",
      "                                                text  label  \n",
      "0  House Dem Aide: We Didn’t Even See Comey’s Let...      1  \n",
      "1  Ever get the feeling your life circles the rou...      0  \n",
      "2  Why the Truth Might Get You Fired October 29, ...      1  \n",
      "3  Videos 15 Civilians Killed In Single US Airstr...      1  \n",
      "4  Print \\nAn Iranian woman has been sentenced to...      1  \n",
      "Missing values before fill:\n",
      "id           0\n",
      "title      558\n",
      "author    1957\n",
      "text        39\n",
      "label        0\n",
      "dtype: int64\n",
      "Missing values after fill:\n",
      "id        0\n",
      "title     0\n",
      "author    0\n",
      "text      0\n",
      "label     0\n",
      "dtype: int64\n",
      "   id                                              title              author  \\\n",
      "0   0  House Dem Aide: We Didn’t Even See Comey’s Let...       Darrell Lucus   \n",
      "1   1  FLYNN: Hillary Clinton, Big Woman on Campus - ...     Daniel J. Flynn   \n",
      "2   2                  Why the Truth Might Get You Fired  Consortiumnews.com   \n",
      "3   3  15 Civilians Killed In Single US Airstrike Hav...     Jessica Purkiss   \n",
      "4   4  Iranian woman jailed for fictional unpublished...      Howard Portnoy   \n",
      "\n",
      "                                                text  label  \\\n",
      "0  House Dem Aide: We Didn’t Even See Comey’s Let...      1   \n",
      "1  Ever get the feeling your life circles the rou...      0   \n",
      "2  Why the Truth Might Get You Fired October 29, ...      1   \n",
      "3  Videos 15 Civilians Killed In Single US Airstr...      1   \n",
      "4  Print \\nAn Iranian woman has been sentenced to...      1   \n",
      "\n",
      "                                             content  \n",
      "0  House Dem Aide: We Didn’t Even See Comey’s Let...  \n",
      "1  FLYNN: Hillary Clinton, Big Woman on Campus - ...  \n",
      "2  Why the Truth Might Get You Fired Consortiumne...  \n",
      "3  15 Civilians Killed In Single US Airstrike Hav...  \n",
      "4  Iranian woman jailed for fictional unpublished...  \n",
      "   id                                              title              author  \\\n",
      "0   0  House Dem Aide: We Didn’t Even See Comey’s Let...       Darrell Lucus   \n",
      "1   1  FLYNN: Hillary Clinton, Big Woman on Campus - ...     Daniel J. Flynn   \n",
      "2   2                  Why the Truth Might Get You Fired  Consortiumnews.com   \n",
      "3   3  15 Civilians Killed In Single US Airstrike Hav...     Jessica Purkiss   \n",
      "4   4  Iranian woman jailed for fictional unpublished...      Howard Portnoy   \n",
      "\n",
      "                                                text  \\\n",
      "0  House Dem Aide: We Didn’t Even See Comey’s Let...   \n",
      "1  Ever get the feeling your life circles the rou...   \n",
      "2  Why the Truth Might Get You Fired October 29, ...   \n",
      "3  Videos 15 Civilians Killed In Single US Airstr...   \n",
      "4  Print \\nAn Iranian woman has been sentenced to...   \n",
      "\n",
      "                                             content  \n",
      "0  House Dem Aide: We Didn’t Even See Comey’s Let...  \n",
      "1  FLYNN: Hillary Clinton, Big Woman on Campus - ...  \n",
      "2  Why the Truth Might Get You Fired Consortiumne...  \n",
      "3  15 Civilians Killed In Single US Airstrike Hav...  \n",
      "4  Iranian woman jailed for fictional unpublished...  \n",
      "0    1\n",
      "1    0\n",
      "2    1\n",
      "3    1\n",
      "4    1\n",
      "Name: label, dtype: int64\n",
      "FLYNN: Hillary Clinton, Big Woman on Campus - Breitbart\n"
     ]
    }
   ],
   "source": [
    "def load_and_prepare_data(filepath: str = 'train.csv') -> tuple[pd.DataFrame, pd.Series, pd.DataFrame]:\n",
    "    \"\"\"\n",
    "    Load and preprocess the dataset.\n",
    "\n",
    "    Parameters:\n",
    "        filepath (str): Path to the CSV file. Defaults to 'train.csv'.\n",
    "\n",
    "    Returns:\n",
    "        tuple: Tuple containing the following:\n",
    "            - X (pd.DataFrame): Features dataframe.\n",
    "            - Y (pd.Series): Labels.\n",
    "            - messages (pd.DataFrame): Copy of X with index reset.\n",
    "    \"\"\"\n",
    "    df = pd.read_csv(filepath)  # Only load train data, test data does not have label\n",
    "    print(\"Data shape:\", df.shape)  # Size of data\n",
    "    print(df.head())  # Show few lines\n",
    "\n",
    "    print(\"Missing values before fill:\")\n",
    "    print(df.isnull().sum())  # checking the missing values\n",
    "    df = df.fillna('')  # replacing null values with empty string\n",
    "    print(\"Missing values after fill:\")\n",
    "    print(df.isnull().sum())\n",
    "\n",
    "    df['content'] = df['title'] + \" \" + df['author']  # Merge title and author\n",
    "    print(df.head())\n",
    "\n",
    "    X = df.drop(columns='label', axis=1)  # separating the data\n",
    "    Y = df['label']  # labels\n",
    "    print(X.head())\n",
    "    print(Y.head())\n",
    "\n",
    "    messages = X.copy()\n",
    "    print(messages['title'][1])\n",
    "    messages.reset_index(inplace=True)\n",
    "\n",
    "    return X, Y, messages\n",
    "\n",
    "# Example usage\n",
    "X, Y, messages = load_and_prepare_data()"
   ]
  },
  {
   "cell_type": "code",
   "execution_count": 8,
   "id": "e728aa8b-3304-4355-a7eb-c5a6ac019437",
   "metadata": {},
   "outputs": [
    {
     "name": "stderr",
     "output_type": "stream",
     "text": [
      ".\n",
      "----------------------------------------------------------------------\n",
      "Ran 1 test in 0.025s\n",
      "\n",
      "OK\n"
     ]
    },
    {
     "name": "stdout",
     "output_type": "stream",
     "text": [
      "Data shape: (2, 5)\n",
      "   id               title    author          text  label\n",
      "0   1     Fake news title  John Doe     Some text      0\n",
      "1   2  Another news title       NaN  Another text      1\n",
      "Missing values before fill:\n",
      "id        0\n",
      "title     0\n",
      "author    1\n",
      "text      0\n",
      "label     0\n",
      "dtype: int64\n",
      "Missing values after fill:\n",
      "id        0\n",
      "title     0\n",
      "author    0\n",
      "text      0\n",
      "label     0\n",
      "dtype: int64\n",
      "   id               title    author          text  label  \\\n",
      "0   1     Fake news title  John Doe     Some text      0   \n",
      "1   2  Another news title            Another text      1   \n",
      "\n",
      "                    content  \n",
      "0  Fake news title John Doe  \n",
      "1       Another news title   \n",
      "   id               title    author          text                   content\n",
      "0   1     Fake news title  John Doe     Some text  Fake news title John Doe\n",
      "1   2  Another news title            Another text       Another news title \n",
      "0    0\n",
      "1    1\n",
      "Name: label, dtype: int64\n",
      "Another news title\n"
     ]
    },
    {
     "data": {
      "text/plain": [
       "<unittest.runner.TextTestResult run=1 errors=0 failures=0>"
      ]
     },
     "execution_count": 8,
     "metadata": {},
     "output_type": "execute_result"
    }
   ],
   "source": [
    "class TestLoadAndPrepareData(unittest.TestCase):\n",
    "    def setUp(self):\n",
    "        self.fake_csv = StringIO(\n",
    "            \"id,title,author,text,label\\n\"\n",
    "            \"1,Fake news title,John Doe,Some text,0\\n\"\n",
    "            \"2,Another news title,,Another text,1\\n\"\n",
    "        )\n",
    "        self.temp_path = \"temp_fake_train.csv\"\n",
    "        with open(self.temp_path, \"w\") as f:\n",
    "            f.write(self.fake_csv.getvalue())\n",
    "\n",
    "    def test_load_and_prepare_data(self):\n",
    "        X, Y, messages = load_and_prepare_data(self.temp_path)\n",
    "        self.assertEqual(len(X), 2)\n",
    "        self.assertEqual(len(Y), 2)\n",
    "        self.assertIn(\"content\", X.columns)\n",
    "        self.assertTrue(isinstance(messages, pd.DataFrame))\n",
    "\n",
    "    def tearDown(self):\n",
    "        if os.path.exists(self.temp_path):\n",
    "            os.remove(self.temp_path)\n",
    "\n",
    "# Run the test\n",
    "unittest.TextTestRunner().run(unittest.TestLoader().loadTestsFromTestCase(TestLoadAndPrepareData))"
   ]
  },
  {
   "cell_type": "markdown",
   "id": "a52eb7d1-ae00-45d4-8b36-51cd7b314b22",
   "metadata": {},
   "source": [
    "# Stemming"
   ]
  },
  {
   "cell_type": "code",
   "execution_count": 10,
   "id": "b38c6676-f451-46de-92f3-c6df5bdadcad",
   "metadata": {},
   "outputs": [],
   "source": [
    "def stem_corpus(messages: pd.DataFrame) -> list[str]:\n",
    "    \"\"\"\n",
    "    Apply stemming and stopword removal to the 'title' field of the messages.\n",
    "\n",
    "    Parameters:\n",
    "        messages (pd.DataFrame): DataFrame containing the 'title' column.\n",
    "\n",
    "    Returns:\n",
    "        list[str]: List of processed and stemmed text entries.\n",
    "    \"\"\"\n",
    "    ps = PorterStemmer()\n",
    "    stop_words = set(stopwords.words('english'))\n",
    "    corpus = []\n",
    "    for i in range(len(messages)):\n",
    "        stemmed = re.sub('[^a-zA-Z]', ' ', messages['title'][i])\n",
    "        stemmed = stemmed.lower().strip()\n",
    "        words = stemmed.split()\n",
    "        stemmed_words = [ps.stem(word) for word in words if word not in stop_words]\n",
    "        corpus.append(' '.join(stemmed_words))\n",
    "    return corpus"
   ]
  },
  {
   "cell_type": "code",
   "execution_count": 12,
   "id": "658710ff-df2f-45af-a29e-32488a02152a",
   "metadata": {},
   "outputs": [],
   "source": [
    "corpus = stem_corpus(messages)"
   ]
  },
  {
   "cell_type": "code",
   "execution_count": 16,
   "id": "7d375f84-09f5-4f51-a6fc-82ac3fe48e9b",
   "metadata": {},
   "outputs": [
    {
     "name": "stderr",
     "output_type": "stream",
     "text": [
      ".\n",
      "----------------------------------------------------------------------\n",
      "Ran 1 test in 0.003s\n",
      "\n",
      "OK\n"
     ]
    },
    {
     "data": {
      "text/plain": [
       "<unittest.runner.TextTestResult run=1 errors=0 failures=0>"
      ]
     },
     "execution_count": 16,
     "metadata": {},
     "output_type": "execute_result"
    }
   ],
   "source": [
    "# Create a unit test for stem_corpus\n",
    "class TestStemCorpus(unittest.TestCase):\n",
    "    def test_stem_corpus_basic(self):\n",
    "        data = pd.DataFrame({\n",
    "            'title': [\"Breaking news in tech world\", \"AI is taking over\", \"New iPhone released\"]\n",
    "        })\n",
    "        result = stem_corpus(data)\n",
    "        # Basic assertions\n",
    "        self.assertEqual(len(result), 3)\n",
    "        self.assertIsInstance(result[0], str)\n",
    "        self.assertTrue(all(isinstance(item, str) for item in result))\n",
    "        # Check stemming works (e.g., 'breaking' becomes 'break')\n",
    "        self.assertIn('break', result[0])\n",
    "        self.assertNotIn('breaking', result[0])\n",
    "\n",
    "# Run the test\n",
    "unittest.TextTestRunner().run(unittest.TestLoader().loadTestsFromTestCase(TestStemCorpus))"
   ]
  },
  {
   "cell_type": "code",
   "execution_count": 28,
   "id": "2aade828-4995-4cfe-a7e9-d863dced7241",
   "metadata": {},
   "outputs": [],
   "source": [
    "def tokenize_and_pad(corpus: list[str], vocab_size: int = 10000, max_len: int = 20) -> np.ndarray:\n",
    "    \"\"\"\n",
    "    Convert text corpus into padded sequences of one-hot encoded integers.\n",
    "\n",
    "    Parameters:\n",
    "        corpus (list[str]): List of stemmed text entries.\n",
    "        vocab_size (int): Vocabulary size for one-hot encoding.\n",
    "        max_len (int): Maximum length for padded sequences.\n",
    "\n",
    "    Returns:\n",
    "        np.ndarray: Padded sequence representation of the corpus.\n",
    "    \"\"\"\n",
    "    if not isinstance(corpus, list):\n",
    "        raise ValueError(\"Input 'corpus' must be a list of sentences (strings).\")\n",
    "    onehot_repr = [one_hot(words, vocab_size) for words in corpus]\n",
    "    embedded_docs = pad_sequences(onehot_repr, padding='pre', maxlen=max_len)\n",
    "    print(embedded_docs)\n",
    "    return embedded_docs"
   ]
  },
  {
   "cell_type": "code",
   "execution_count": 30,
   "id": "1692cfc9-41c5-4b62-8326-dbc268bc47e2",
   "metadata": {},
   "outputs": [
    {
     "name": "stdout",
     "output_type": "stream",
     "text": [
      "[[   0    0    0 ... 4462 2348 7349]\n",
      " [   0    0    0 ... 8218 2803 3633]\n",
      " [   0    0    0 ... 2577 1740 8947]\n",
      " ...\n",
      " [   0    0    0 ...  602 2508 2599]\n",
      " [   0    0    0 ... 6702 9962 7085]\n",
      " [   0    0    0 ... 2293 4535 6332]]\n"
     ]
    }
   ],
   "source": [
    "embedded_docs = tokenize_and_pad(corpus)"
   ]
  },
  {
   "cell_type": "code",
   "execution_count": 38,
   "id": "2a281054-b896-4503-91a5-e25420ffd2a5",
   "metadata": {},
   "outputs": [],
   "source": [
    "def prepare_final_data(embedded_docs: np.ndarray, labels: pd.Series) -> tuple[np.ndarray, np.ndarray]:\n",
    "    \"\"\"\n",
    "    Prepare final NumPy arrays for model training.\n",
    "\n",
    "    Parameters:\n",
    "        embedded_docs (np.ndarray): Padded sequences.\n",
    "        labels (pd.Series): Target labels.\n",
    "\n",
    "    Returns:\n",
    "        tuple: Tuple containing final feature and label arrays.\n",
    "    \"\"\"\n",
    "    X_final = np.array(embedded_docs)\n",
    "    Y_final = np.array(labels)\n",
    "    print(X_final)\n",
    "    print(Y_final)\n",
    "    return X_final, Y_final"
   ]
  },
  {
   "cell_type": "code",
   "execution_count": 40,
   "id": "ebba444f-08bd-45a0-8844-b8ce719ba460",
   "metadata": {},
   "outputs": [
    {
     "name": "stdout",
     "output_type": "stream",
     "text": [
      "[[   0    0    0 ... 4462 2348 7349]\n",
      " [   0    0    0 ... 8218 2803 3633]\n",
      " [   0    0    0 ... 2577 1740 8947]\n",
      " ...\n",
      " [   0    0    0 ...  602 2508 2599]\n",
      " [   0    0    0 ... 6702 9962 7085]\n",
      " [   0    0    0 ... 2293 4535 6332]]\n",
      "[1 0 1 ... 0 1 1]\n"
     ]
    }
   ],
   "source": [
    "X_final, Y_final = prepare_final_data(embedded_docs, Y)"
   ]
  },
  {
   "cell_type": "code",
   "execution_count": 44,
   "id": "f4f12dd6-65b4-497f-a457-24e277868ab3",
   "metadata": {},
   "outputs": [
    {
     "name": "stderr",
     "output_type": "stream",
     "text": [
      ".\n",
      "----------------------------------------------------------------------\n",
      "Ran 1 test in 0.002s\n",
      "\n",
      "OK\n"
     ]
    },
    {
     "name": "stdout",
     "output_type": "stream",
     "text": [
      "[[1 2]\n",
      " [3 4]\n",
      " [5 6]]\n",
      "[1 0 1]\n"
     ]
    },
    {
     "data": {
      "text/plain": [
       "<unittest.runner.TextTestResult run=1 errors=0 failures=0>"
      ]
     },
     "execution_count": 44,
     "metadata": {},
     "output_type": "execute_result"
    }
   ],
   "source": [
    "class TestPrepareFinalData(unittest.TestCase):\n",
    "    def test_prepare_final_data_shapes(self):\n",
    "        # Simulated padded sequences and labels\n",
    "        embedded_docs = np.array([\n",
    "            [1, 2], [3, 4], [5, 6]\n",
    "        ])\n",
    "        labels = pd.Series([1, 0, 1])\n",
    "\n",
    "        X_final, Y_final = prepare_final_data(embedded_docs, labels)\n",
    "\n",
    "        # Assertions\n",
    "        self.assertEqual(X_final.shape, (3, 2))\n",
    "        self.assertEqual(Y_final.shape, (3,))\n",
    "        self.assertTrue((Y_final == labels.values).all())\n",
    "\n",
    "# Run the test\n",
    "unittest.TextTestRunner().run(unittest.TestLoader().loadTestsFromTestCase(TestPrepareFinalData))"
   ]
  },
  {
   "cell_type": "markdown",
   "id": "8a9757bc-8d62-4aef-855b-950203f4ddde",
   "metadata": {},
   "source": [
    "# Split data"
   ]
  },
  {
   "cell_type": "code",
   "execution_count": 46,
   "id": "f2b08532-bf32-45d5-a8db-e32eeb4b3882",
   "metadata": {},
   "outputs": [],
   "source": [
    "def split_data(X: np.ndarray, Y: np.ndarray, test_size: float = 0.2, random_state: int = 50) -> tuple[np.ndarray, np.ndarray, np.ndarray, np.ndarray]:\n",
    "    \"\"\"\n",
    "    Split the data into training and test sets.\n",
    "\n",
    "    Parameters:\n",
    "        X (np.ndarray): Feature data.\n",
    "        Y (np.ndarray): Label data.\n",
    "        test_size (float): Proportion of test data.\n",
    "        random_state (int): Random seed for reproducibility.\n",
    "\n",
    "    Returns:\n",
    "        tuple: X_train, X_test, Y_train, Y_test\n",
    "    \"\"\"\n",
    "    return train_test_split(X, Y, test_size=test_size, random_state=random_state)"
   ]
  },
  {
   "cell_type": "code",
   "execution_count": 48,
   "id": "741635b9-b022-4243-8cb5-93a3e8c23737",
   "metadata": {},
   "outputs": [],
   "source": [
    "X_train, X_test, Y_train, Y_test = split_data(X_final, Y_final)"
   ]
  },
  {
   "cell_type": "code",
   "execution_count": 50,
   "id": "8dff3a55-4a56-42f3-ad6e-7333054a7050",
   "metadata": {},
   "outputs": [
    {
     "name": "stdout",
     "output_type": "stream",
     "text": [
      "The size of X_train and Y_train is: 16640, 16640\n",
      "The size of X_test and Y_test is: 4160, 4160\n"
     ]
    }
   ],
   "source": [
    "print(f\"The size of X_train and Y_train is: {X_train.shape[0]}, {Y_train.shape[0]}\")\n",
    "print(f\"The size of X_test and Y_test is: {X_test.shape[0]}, {Y_test.shape[0]}\")"
   ]
  },
  {
   "cell_type": "code",
   "execution_count": 52,
   "id": "9c604c6e-bf49-424e-9bdd-6e7ac948dabb",
   "metadata": {},
   "outputs": [
    {
     "name": "stderr",
     "output_type": "stream",
     "text": [
      ".\n",
      "----------------------------------------------------------------------\n",
      "Ran 1 test in 0.003s\n",
      "\n",
      "OK\n"
     ]
    },
    {
     "data": {
      "text/plain": [
       "<unittest.runner.TextTestResult run=1 errors=0 failures=0>"
      ]
     },
     "execution_count": 52,
     "metadata": {},
     "output_type": "execute_result"
    }
   ],
   "source": [
    "class TestSplitData(unittest.TestCase):\n",
    "    def test_split_data_shapes(self):\n",
    "        X = np.array([[1, 2], [3, 4], [5, 6], [7, 8]])\n",
    "        Y = np.array([0, 1, 0, 1])\n",
    "\n",
    "        X_train, X_test, Y_train, Y_test = split_data(X, Y, test_size=0.5, random_state=42)\n",
    "\n",
    "        self.assertEqual(X_train.shape[0], 2)\n",
    "        self.assertEqual(X_test.shape[0], 2)\n",
    "        self.assertEqual(Y_train.shape[0], 2)\n",
    "        self.assertEqual(Y_test.shape[0], 2)\n",
    "        self.assertEqual(X_train.shape[1], X.shape[1])\n",
    "        self.assertTrue(set(Y_train).issubset({0, 1}))\n",
    "\n",
    "# Run test\n",
    "unittest.TextTestRunner().run(unittest.TestLoader().loadTestsFromTestCase(TestSplitData))"
   ]
  },
  {
   "cell_type": "markdown",
   "id": "f302df05-e6b7-4be1-b2e7-46984a898d44",
   "metadata": {},
   "source": [
    "# RNN"
   ]
  },
  {
   "cell_type": "code",
   "execution_count": 54,
   "id": "364929bd-0535-449c-9d79-ab4133f75302",
   "metadata": {},
   "outputs": [],
   "source": [
    "def build_and_train_rnn(X_train, Y_train, X_test, Y_test,\n",
    "                        voc, max_len,\n",
    "                        embedding_vector_features=40,\n",
    "                        epochs=20, batch_size=32):\n",
    "    \n",
    "    rnn = Sequential()\n",
    "    rnn.add(Embedding(input_dim=voc, output_dim=embedding_vector_features))\n",
    "\n",
    "    rnn.add(SimpleRNN(100, return_sequences=False))\n",
    "    rnn.add(Dropout(0.5))  # Helps reduce overfitting\n",
    "\n",
    "    # If you want L2 regularization, replace the line below with:\n",
    "    # rnn.add(Dense(1, activation='sigmoid', kernel_regularizer=l2(0.001)))\n",
    "    rnn.add(Dense(1, activation='sigmoid'))\n",
    "\n",
    "    rnn.build(input_shape=(None, max_len))\n",
    "    rnn.summary()\n",
    "    \n",
    "    rnn.compile(optimizer='adam', loss='binary_crossentropy', metrics=['accuracy'])\n",
    "\n",
    "    early_stop = EarlyStopping(monitor='val_loss', patience=3, restore_best_weights=True)\n",
    "\n",
    "    history = rnn.fit(X_train, Y_train,\n",
    "                      epochs=epochs,\n",
    "                      batch_size=batch_size,\n",
    "                      validation_data=(X_test, Y_test),\n",
    "                      callbacks=[early_stop])\n",
    "    return rnn, history"
   ]
  },
  {
   "cell_type": "code",
   "execution_count": 56,
   "id": "6325a9fb-63fe-4b1c-8441-591ef78001e2",
   "metadata": {},
   "outputs": [
    {
     "data": {
      "text/html": [
       "<pre style=\"white-space:pre;overflow-x:auto;line-height:normal;font-family:Menlo,'DejaVu Sans Mono',consolas,'Courier New',monospace\"><span style=\"font-weight: bold\">Model: \"sequential\"</span>\n",
       "</pre>\n"
      ],
      "text/plain": [
       "\u001b[1mModel: \"sequential\"\u001b[0m\n"
      ]
     },
     "metadata": {},
     "output_type": "display_data"
    },
    {
     "data": {
      "text/html": [
       "<pre style=\"white-space:pre;overflow-x:auto;line-height:normal;font-family:Menlo,'DejaVu Sans Mono',consolas,'Courier New',monospace\">┏━━━━━━━━━━━━━━━━━━━━━━━━━━━━━━━━━┳━━━━━━━━━━━━━━━━━━━━━━━━┳━━━━━━━━━━━━━━━┓\n",
       "┃<span style=\"font-weight: bold\"> Layer (type)                    </span>┃<span style=\"font-weight: bold\"> Output Shape           </span>┃<span style=\"font-weight: bold\">       Param # </span>┃\n",
       "┡━━━━━━━━━━━━━━━━━━━━━━━━━━━━━━━━━╇━━━━━━━━━━━━━━━━━━━━━━━━╇━━━━━━━━━━━━━━━┩\n",
       "│ embedding (<span style=\"color: #0087ff; text-decoration-color: #0087ff\">Embedding</span>)           │ (<span style=\"color: #00d7ff; text-decoration-color: #00d7ff\">None</span>, <span style=\"color: #00af00; text-decoration-color: #00af00\">20</span>, <span style=\"color: #00af00; text-decoration-color: #00af00\">40</span>)         │       <span style=\"color: #00af00; text-decoration-color: #00af00\">400,000</span> │\n",
       "├─────────────────────────────────┼────────────────────────┼───────────────┤\n",
       "│ simple_rnn (<span style=\"color: #0087ff; text-decoration-color: #0087ff\">SimpleRNN</span>)          │ (<span style=\"color: #00d7ff; text-decoration-color: #00d7ff\">None</span>, <span style=\"color: #00af00; text-decoration-color: #00af00\">100</span>)            │        <span style=\"color: #00af00; text-decoration-color: #00af00\">14,100</span> │\n",
       "├─────────────────────────────────┼────────────────────────┼───────────────┤\n",
       "│ dropout (<span style=\"color: #0087ff; text-decoration-color: #0087ff\">Dropout</span>)               │ (<span style=\"color: #00d7ff; text-decoration-color: #00d7ff\">None</span>, <span style=\"color: #00af00; text-decoration-color: #00af00\">100</span>)            │             <span style=\"color: #00af00; text-decoration-color: #00af00\">0</span> │\n",
       "├─────────────────────────────────┼────────────────────────┼───────────────┤\n",
       "│ dense (<span style=\"color: #0087ff; text-decoration-color: #0087ff\">Dense</span>)                   │ (<span style=\"color: #00d7ff; text-decoration-color: #00d7ff\">None</span>, <span style=\"color: #00af00; text-decoration-color: #00af00\">1</span>)              │           <span style=\"color: #00af00; text-decoration-color: #00af00\">101</span> │\n",
       "└─────────────────────────────────┴────────────────────────┴───────────────┘\n",
       "</pre>\n"
      ],
      "text/plain": [
       "┏━━━━━━━━━━━━━━━━━━━━━━━━━━━━━━━━━┳━━━━━━━━━━━━━━━━━━━━━━━━┳━━━━━━━━━━━━━━━┓\n",
       "┃\u001b[1m \u001b[0m\u001b[1mLayer (type)                   \u001b[0m\u001b[1m \u001b[0m┃\u001b[1m \u001b[0m\u001b[1mOutput Shape          \u001b[0m\u001b[1m \u001b[0m┃\u001b[1m \u001b[0m\u001b[1m      Param #\u001b[0m\u001b[1m \u001b[0m┃\n",
       "┡━━━━━━━━━━━━━━━━━━━━━━━━━━━━━━━━━╇━━━━━━━━━━━━━━━━━━━━━━━━╇━━━━━━━━━━━━━━━┩\n",
       "│ embedding (\u001b[38;5;33mEmbedding\u001b[0m)           │ (\u001b[38;5;45mNone\u001b[0m, \u001b[38;5;34m20\u001b[0m, \u001b[38;5;34m40\u001b[0m)         │       \u001b[38;5;34m400,000\u001b[0m │\n",
       "├─────────────────────────────────┼────────────────────────┼───────────────┤\n",
       "│ simple_rnn (\u001b[38;5;33mSimpleRNN\u001b[0m)          │ (\u001b[38;5;45mNone\u001b[0m, \u001b[38;5;34m100\u001b[0m)            │        \u001b[38;5;34m14,100\u001b[0m │\n",
       "├─────────────────────────────────┼────────────────────────┼───────────────┤\n",
       "│ dropout (\u001b[38;5;33mDropout\u001b[0m)               │ (\u001b[38;5;45mNone\u001b[0m, \u001b[38;5;34m100\u001b[0m)            │             \u001b[38;5;34m0\u001b[0m │\n",
       "├─────────────────────────────────┼────────────────────────┼───────────────┤\n",
       "│ dense (\u001b[38;5;33mDense\u001b[0m)                   │ (\u001b[38;5;45mNone\u001b[0m, \u001b[38;5;34m1\u001b[0m)              │           \u001b[38;5;34m101\u001b[0m │\n",
       "└─────────────────────────────────┴────────────────────────┴───────────────┘\n"
      ]
     },
     "metadata": {},
     "output_type": "display_data"
    },
    {
     "data": {
      "text/html": [
       "<pre style=\"white-space:pre;overflow-x:auto;line-height:normal;font-family:Menlo,'DejaVu Sans Mono',consolas,'Courier New',monospace\"><span style=\"font-weight: bold\"> Total params: </span><span style=\"color: #00af00; text-decoration-color: #00af00\">414,201</span> (1.58 MB)\n",
       "</pre>\n"
      ],
      "text/plain": [
       "\u001b[1m Total params: \u001b[0m\u001b[38;5;34m414,201\u001b[0m (1.58 MB)\n"
      ]
     },
     "metadata": {},
     "output_type": "display_data"
    },
    {
     "data": {
      "text/html": [
       "<pre style=\"white-space:pre;overflow-x:auto;line-height:normal;font-family:Menlo,'DejaVu Sans Mono',consolas,'Courier New',monospace\"><span style=\"font-weight: bold\"> Trainable params: </span><span style=\"color: #00af00; text-decoration-color: #00af00\">414,201</span> (1.58 MB)\n",
       "</pre>\n"
      ],
      "text/plain": [
       "\u001b[1m Trainable params: \u001b[0m\u001b[38;5;34m414,201\u001b[0m (1.58 MB)\n"
      ]
     },
     "metadata": {},
     "output_type": "display_data"
    },
    {
     "data": {
      "text/html": [
       "<pre style=\"white-space:pre;overflow-x:auto;line-height:normal;font-family:Menlo,'DejaVu Sans Mono',consolas,'Courier New',monospace\"><span style=\"font-weight: bold\"> Non-trainable params: </span><span style=\"color: #00af00; text-decoration-color: #00af00\">0</span> (0.00 B)\n",
       "</pre>\n"
      ],
      "text/plain": [
       "\u001b[1m Non-trainable params: \u001b[0m\u001b[38;5;34m0\u001b[0m (0.00 B)\n"
      ]
     },
     "metadata": {},
     "output_type": "display_data"
    },
    {
     "name": "stdout",
     "output_type": "stream",
     "text": [
      "Epoch 1/20\n",
      "\u001b[1m520/520\u001b[0m \u001b[32m━━━━━━━━━━━━━━━━━━━━\u001b[0m\u001b[37m\u001b[0m \u001b[1m7s\u001b[0m 10ms/step - accuracy: 0.8569 - loss: 0.3359 - val_accuracy: 0.9279 - val_loss: 0.1684\n",
      "Epoch 2/20\n",
      "\u001b[1m520/520\u001b[0m \u001b[32m━━━━━━━━━━━━━━━━━━━━\u001b[0m\u001b[37m\u001b[0m \u001b[1m5s\u001b[0m 10ms/step - accuracy: 0.9714 - loss: 0.0847 - val_accuracy: 0.9284 - val_loss: 0.1951\n",
      "Epoch 3/20\n",
      "\u001b[1m520/520\u001b[0m \u001b[32m━━━━━━━━━━━━━━━━━━━━\u001b[0m\u001b[37m\u001b[0m \u001b[1m5s\u001b[0m 10ms/step - accuracy: 0.9945 - loss: 0.0212 - val_accuracy: 0.9144 - val_loss: 0.2683\n",
      "Epoch 4/20\n",
      "\u001b[1m520/520\u001b[0m \u001b[32m━━━━━━━━━━━━━━━━━━━━\u001b[0m\u001b[37m\u001b[0m \u001b[1m5s\u001b[0m 10ms/step - accuracy: 0.9983 - loss: 0.0057 - val_accuracy: 0.9252 - val_loss: 0.3584\n"
     ]
    }
   ],
   "source": [
    "rnn_model, history = build_and_train_rnn(X_train, Y_train, X_test, Y_test, 10000,20)"
   ]
  },
  {
   "cell_type": "code",
   "execution_count": 58,
   "id": "3ac439a4-7d89-47c0-8526-8a4fb46a65f0",
   "metadata": {},
   "outputs": [
    {
     "data": {
      "text/html": [
       "<pre style=\"white-space:pre;overflow-x:auto;line-height:normal;font-family:Menlo,'DejaVu Sans Mono',consolas,'Courier New',monospace\"><span style=\"font-weight: bold\">Model: \"sequential_1\"</span>\n",
       "</pre>\n"
      ],
      "text/plain": [
       "\u001b[1mModel: \"sequential_1\"\u001b[0m\n"
      ]
     },
     "metadata": {},
     "output_type": "display_data"
    },
    {
     "data": {
      "text/html": [
       "<pre style=\"white-space:pre;overflow-x:auto;line-height:normal;font-family:Menlo,'DejaVu Sans Mono',consolas,'Courier New',monospace\">┏━━━━━━━━━━━━━━━━━━━━━━━━━━━━━━━━━┳━━━━━━━━━━━━━━━━━━━━━━━━┳━━━━━━━━━━━━━━━┓\n",
       "┃<span style=\"font-weight: bold\"> Layer (type)                    </span>┃<span style=\"font-weight: bold\"> Output Shape           </span>┃<span style=\"font-weight: bold\">       Param # </span>┃\n",
       "┡━━━━━━━━━━━━━━━━━━━━━━━━━━━━━━━━━╇━━━━━━━━━━━━━━━━━━━━━━━━╇━━━━━━━━━━━━━━━┩\n",
       "│ embedding_1 (<span style=\"color: #0087ff; text-decoration-color: #0087ff\">Embedding</span>)         │ (<span style=\"color: #00d7ff; text-decoration-color: #00d7ff\">None</span>, <span style=\"color: #00af00; text-decoration-color: #00af00\">20</span>, <span style=\"color: #00af00; text-decoration-color: #00af00\">40</span>)         │       <span style=\"color: #00af00; text-decoration-color: #00af00\">200,000</span> │\n",
       "├─────────────────────────────────┼────────────────────────┼───────────────┤\n",
       "│ simple_rnn_1 (<span style=\"color: #0087ff; text-decoration-color: #0087ff\">SimpleRNN</span>)        │ (<span style=\"color: #00d7ff; text-decoration-color: #00d7ff\">None</span>, <span style=\"color: #00af00; text-decoration-color: #00af00\">100</span>)            │        <span style=\"color: #00af00; text-decoration-color: #00af00\">14,100</span> │\n",
       "├─────────────────────────────────┼────────────────────────┼───────────────┤\n",
       "│ dropout_1 (<span style=\"color: #0087ff; text-decoration-color: #0087ff\">Dropout</span>)             │ (<span style=\"color: #00d7ff; text-decoration-color: #00d7ff\">None</span>, <span style=\"color: #00af00; text-decoration-color: #00af00\">100</span>)            │             <span style=\"color: #00af00; text-decoration-color: #00af00\">0</span> │\n",
       "├─────────────────────────────────┼────────────────────────┼───────────────┤\n",
       "│ dense_1 (<span style=\"color: #0087ff; text-decoration-color: #0087ff\">Dense</span>)                 │ (<span style=\"color: #00d7ff; text-decoration-color: #00d7ff\">None</span>, <span style=\"color: #00af00; text-decoration-color: #00af00\">1</span>)              │           <span style=\"color: #00af00; text-decoration-color: #00af00\">101</span> │\n",
       "└─────────────────────────────────┴────────────────────────┴───────────────┘\n",
       "</pre>\n"
      ],
      "text/plain": [
       "┏━━━━━━━━━━━━━━━━━━━━━━━━━━━━━━━━━┳━━━━━━━━━━━━━━━━━━━━━━━━┳━━━━━━━━━━━━━━━┓\n",
       "┃\u001b[1m \u001b[0m\u001b[1mLayer (type)                   \u001b[0m\u001b[1m \u001b[0m┃\u001b[1m \u001b[0m\u001b[1mOutput Shape          \u001b[0m\u001b[1m \u001b[0m┃\u001b[1m \u001b[0m\u001b[1m      Param #\u001b[0m\u001b[1m \u001b[0m┃\n",
       "┡━━━━━━━━━━━━━━━━━━━━━━━━━━━━━━━━━╇━━━━━━━━━━━━━━━━━━━━━━━━╇━━━━━━━━━━━━━━━┩\n",
       "│ embedding_1 (\u001b[38;5;33mEmbedding\u001b[0m)         │ (\u001b[38;5;45mNone\u001b[0m, \u001b[38;5;34m20\u001b[0m, \u001b[38;5;34m40\u001b[0m)         │       \u001b[38;5;34m200,000\u001b[0m │\n",
       "├─────────────────────────────────┼────────────────────────┼───────────────┤\n",
       "│ simple_rnn_1 (\u001b[38;5;33mSimpleRNN\u001b[0m)        │ (\u001b[38;5;45mNone\u001b[0m, \u001b[38;5;34m100\u001b[0m)            │        \u001b[38;5;34m14,100\u001b[0m │\n",
       "├─────────────────────────────────┼────────────────────────┼───────────────┤\n",
       "│ dropout_1 (\u001b[38;5;33mDropout\u001b[0m)             │ (\u001b[38;5;45mNone\u001b[0m, \u001b[38;5;34m100\u001b[0m)            │             \u001b[38;5;34m0\u001b[0m │\n",
       "├─────────────────────────────────┼────────────────────────┼───────────────┤\n",
       "│ dense_1 (\u001b[38;5;33mDense\u001b[0m)                 │ (\u001b[38;5;45mNone\u001b[0m, \u001b[38;5;34m1\u001b[0m)              │           \u001b[38;5;34m101\u001b[0m │\n",
       "└─────────────────────────────────┴────────────────────────┴───────────────┘\n"
      ]
     },
     "metadata": {},
     "output_type": "display_data"
    },
    {
     "data": {
      "text/html": [
       "<pre style=\"white-space:pre;overflow-x:auto;line-height:normal;font-family:Menlo,'DejaVu Sans Mono',consolas,'Courier New',monospace\"><span style=\"font-weight: bold\"> Total params: </span><span style=\"color: #00af00; text-decoration-color: #00af00\">214,201</span> (836.72 KB)\n",
       "</pre>\n"
      ],
      "text/plain": [
       "\u001b[1m Total params: \u001b[0m\u001b[38;5;34m214,201\u001b[0m (836.72 KB)\n"
      ]
     },
     "metadata": {},
     "output_type": "display_data"
    },
    {
     "data": {
      "text/html": [
       "<pre style=\"white-space:pre;overflow-x:auto;line-height:normal;font-family:Menlo,'DejaVu Sans Mono',consolas,'Courier New',monospace\"><span style=\"font-weight: bold\"> Trainable params: </span><span style=\"color: #00af00; text-decoration-color: #00af00\">214,201</span> (836.72 KB)\n",
       "</pre>\n"
      ],
      "text/plain": [
       "\u001b[1m Trainable params: \u001b[0m\u001b[38;5;34m214,201\u001b[0m (836.72 KB)\n"
      ]
     },
     "metadata": {},
     "output_type": "display_data"
    },
    {
     "data": {
      "text/html": [
       "<pre style=\"white-space:pre;overflow-x:auto;line-height:normal;font-family:Menlo,'DejaVu Sans Mono',consolas,'Courier New',monospace\"><span style=\"font-weight: bold\"> Non-trainable params: </span><span style=\"color: #00af00; text-decoration-color: #00af00\">0</span> (0.00 B)\n",
       "</pre>\n"
      ],
      "text/plain": [
       "\u001b[1m Non-trainable params: \u001b[0m\u001b[38;5;34m0\u001b[0m (0.00 B)\n"
      ]
     },
     "metadata": {},
     "output_type": "display_data"
    },
    {
     "name": "stdout",
     "output_type": "stream",
     "text": [
      "\u001b[1m5/5\u001b[0m \u001b[32m━━━━━━━━━━━━━━━━━━━━\u001b[0m\u001b[37m\u001b[0m \u001b[1m2s\u001b[0m 86ms/step - accuracy: 0.6236 - loss: 0.6661 - val_accuracy: 0.6000 - val_loss: 0.6501\n"
     ]
    },
    {
     "name": "stderr",
     "output_type": "stream",
     "text": [
      ".\n",
      "----------------------------------------------------------------------\n",
      "Ran 1 test in 2.147s\n",
      "\n",
      "OK\n"
     ]
    },
    {
     "data": {
      "text/plain": [
       "<unittest.runner.TextTestResult run=1 errors=0 failures=0>"
      ]
     },
     "execution_count": 58,
     "metadata": {},
     "output_type": "execute_result"
    }
   ],
   "source": [
    "class TestBuildAndTrainRNN(unittest.TestCase):\n",
    "    def test_rnn_model_training(self):\n",
    "        X_train = np.random.randint(0, 5000, (10, 20))\n",
    "        Y_train = np.random.randint(0, 2, 10)\n",
    "        X_test = np.random.randint(0, 5000, (5, 20))\n",
    "        Y_test = np.random.randint(0, 2, 5)\n",
    "\n",
    "        voc = 5000\n",
    "        max_len = 20\n",
    "\n",
    "        model, history = build_and_train_rnn(X_train, Y_train, X_test, Y_test, voc, max_len, epochs=1, batch_size=2)\n",
    "\n",
    "        self.assertIsNotNone(model)\n",
    "        self.assertTrue(hasattr(model, \"predict\"))\n",
    "        self.assertTrue(\"accuracy\" in history.history)\n",
    "\n",
    "# Run test\n",
    "unittest.TextTestRunner().run(unittest.TestLoader().loadTestsFromTestCase(TestBuildAndTrainRNN))"
   ]
  },
  {
   "cell_type": "code",
   "execution_count": 60,
   "id": "d3a104bf-824c-49db-b9dc-a7da93d5b50a",
   "metadata": {},
   "outputs": [],
   "source": [
    "import matplotlib.pyplot as plt\n",
    "import seaborn as sns"
   ]
  },
  {
   "cell_type": "code",
   "execution_count": 62,
   "id": "5545282c-228a-44e3-9c41-c61dd4aa815d",
   "metadata": {},
   "outputs": [],
   "source": [
    "def analyze_performance(history, model, X_test, Y_test):\n",
    "    \"\"\"\n",
    "    Analyze and visualize the model's performance using accuracy, loss, classification metrics,\n",
    "    and display some incorrect prediction examples with text and author details.\n",
    "    \"\"\"\n",
    "    plt.figure(figsize=(12, 5))\n",
    "    plt.subplot(1, 2, 1)\n",
    "    plt.plot(history.history[\"accuracy\"], label=\"Training Accuracy\", c=\"red\")\n",
    "    plt.plot(history.history[\"val_accuracy\"], label=\"Validation Accuracy\", c=\"blue\")\n",
    "    plt.title(\"Accuracy\")\n",
    "    plt.xlabel(\"Epoch\")\n",
    "    plt.ylabel(\"Accuracy\")\n",
    "    plt.legend()\n",
    "\n",
    "    plt.subplot(1, 2, 2)\n",
    "    plt.plot(history.history[\"loss\"], label=\"Training Loss\", c=\"red\")\n",
    "    plt.plot(history.history[\"val_loss\"], label=\"Validation Loss\", c=\"blue\")\n",
    "    plt.title(\"Loss\")\n",
    "    plt.xlabel(\"Epoch\")\n",
    "    plt.ylabel(\"Loss\")\n",
    "    plt.legend()\n",
    "    plt.tight_layout()\n",
    "    plt.show()\n",
    "\n",
    "    y_pred = model.predict(X_test)\n",
    "    y_pred_classes = (y_pred > 0.5).astype(int)\n",
    "    acc = accuracy_score(Y_test, y_pred_classes)\n",
    "    cm = confusion_matrix(Y_test, y_pred_classes)\n",
    "\n",
    "    print(\"Accuracy Score:\", acc)\n",
    "    print(\"Confusion Matrix:\\n\", cm)\n",
    "    print(\"Classification Report:\\n\", classification_report(Y_test, y_pred_classes))\n",
    "\n",
    "    plt.figure(figsize=(6, 5))\n",
    "    sns.heatmap(cm, annot=True, fmt='d', cmap='Blues', xticklabels=['Predicted 0', 'Predicted 1'], yticklabels=['Actual 0', 'Actual 1'])\n",
    "    plt.title(\"Confusion Matrix\")\n",
    "    plt.ylabel(\"True label\")\n",
    "    plt.xlabel(\"Predicted label\")\n",
    "    plt.show()\n",
    "\n",
    "    wrong_indices = np.where(Y_test != y_pred_classes.reshape(-1))[0]\n",
    "    print(\"\\nExamples of wrong predictions with details:\")\n",
    "    for i, idx in enumerate(wrong_indices[:5]):\n",
    "        print(f\"\\nExample {i + 1}:\")\n",
    "        print(f\"Title: {messages.loc[idx, 'title']}\")\n",
    "        print(f\"Author: {messages.loc[idx, 'author']}\")\n",
    "        print(f\"Actual Label: {Y_test[idx]}, Predicted Label: {y_pred_classes[idx][0]}\")"
   ]
  },
  {
   "cell_type": "code",
   "execution_count": 64,
   "id": "fdf5f0d3-910d-4061-8b80-06eea9662b8b",
   "metadata": {},
   "outputs": [
    {
     "data": {
      "image/png": "[encoded data removed]",
      "text/plain": [
       "<Figure size 1200x500 with 2 Axes>"
      ]
     },
     "metadata": {},
     "output_type": "display_data"
    },
    {
     "name": "stdout",
     "output_type": "stream",
     "text": [
      "\u001b[1m130/130\u001b[0m \u001b[32m━━━━━━━━━━━━━━━━━━━━\u001b[0m\u001b[37m\u001b[0m \u001b[1m1s\u001b[0m 4ms/step\n",
      "Accuracy Score: 0.9278846153846154\n",
      "Confusion Matrix:\n",
      " [[1843  242]\n",
      " [  58 2017]]\n",
      "Classification Report:\n",
      "               precision    recall  f1-score   support\n",
      "\n",
      "           0       0.97      0.88      0.92      2085\n",
      "           1       0.89      0.97      0.93      2075\n",
      "\n",
      "    accuracy                           0.93      4160\n",
      "   macro avg       0.93      0.93      0.93      4160\n",
      "weighted avg       0.93      0.93      0.93      4160\n",
      "\n"
     ]
    },
    {
     "data": {
      "image/png": "[encoded data removed]",
      "text/plain": [
       "<Figure size 600x500 with 2 Axes>"
      ]
     },
     "metadata": {},
     "output_type": "display_data"
    },
    {
     "name": "stdout",
     "output_type": "stream",
     "text": [
      "\n",
      "Examples of wrong predictions with details:\n",
      "\n",
      "Example 1:\n",
      "Title: Iranian woman jailed for fictional unpublished story about woman stoned to death for adultery\n",
      "Author: Howard Portnoy\n",
      "Actual Label: 0, Predicted Label: 1\n",
      "\n",
      "Example 2:\n",
      "Title: US Officials See No Link Between Trump and Russia\n",
      "Author: Jason Ditz\n",
      "Actual Label: 0, Predicted Label: 1\n",
      "\n",
      "Example 3:\n",
      "Title: Humiliated Hillary Tries To Hide What Camera Caught 15 Mins Before Rally\n",
      "Author: Amanda Shea\n",
      "Actual Label: 0, Predicted Label: 1\n",
      "\n",
      "Example 4:\n",
      "Title: I wonder what GLP will be like the day after the election?\n",
      "Author: Anonymous Coward (UID 12781064)\n",
      "Actual Label: 0, Predicted Label: 1\n",
      "\n",
      "Example 5:\n",
      "Title: Pence Will Speak at Anti-Abortion Rally - The New York Times\n",
      "Author: Jeremy W. Peters\n",
      "Actual Label: 0, Predicted Label: 1\n"
     ]
    }
   ],
   "source": [
    "analyze_performance(history, rnn_model, X_test, Y_test)"
   ]
  },
  {
   "cell_type": "markdown",
   "id": "bd3ced21-faa5-4423-9a9b-fd8c968c0cd8",
   "metadata": {},
   "source": [
    "# LSTM"
   ]
  },
  {
   "cell_type": "code",
   "execution_count": 66,
   "id": "3d6655ee-10fd-48cc-98ad-8d68559020c3",
   "metadata": {},
   "outputs": [],
   "source": [
    "def build_and_train_lstm(X_train: np.ndarray, Y_train: np.ndarray,\n",
    "                         X_test: np.ndarray, Y_test: np.ndarray,\n",
    "                         voc: int, max_len: int,\n",
    "                         embedding_vector_features: int = 40,\n",
    "                         epochs: int = 20, batch_size: int = 32) -> tuple[Sequential, any]:\n",
    "    \n",
    "    lstm = Sequential()\n",
    "    lstm.add(Embedding(input_dim=voc, output_dim=embedding_vector_features))\n",
    "    lstm.add(Dropout(0.3))\n",
    "    lstm.add(LSTM(100))\n",
    "    lstm.add(Dropout(0.3))\n",
    "\n",
    "    # Optional: L2 regularization\n",
    "    # lstm.add(Dense(1, activation='sigmoid', kernel_regularizer=l2(0.001)))\n",
    "    lstm.add(Dense(1, activation='sigmoid'))\n",
    "\n",
    "    lstm.build(input_shape=(None, max_len))\n",
    "    lstm.compile(loss='binary_crossentropy', optimizer='adam', metrics=['accuracy'])\n",
    "    lstm.summary()\n",
    "\n",
    "    early_stop = EarlyStopping(monitor='val_loss', patience=3, restore_best_weights=True)\n",
    "\n",
    "    history = lstm.fit(X_train, Y_train,\n",
    "                       epochs=epochs,\n",
    "                       batch_size=batch_size,\n",
    "                       validation_data=(X_test, Y_test),\n",
    "                       callbacks=[early_stop])\n",
    "\n",
    "    return lstm, history"
   ]
  },
  {
   "cell_type": "code",
   "execution_count": 68,
   "id": "95d8e0c1-6bb5-4ea7-a0c9-18a39249a56b",
   "metadata": {},
   "outputs": [
    {
     "data": {
      "text/html": [
       "<pre style=\"white-space:pre;overflow-x:auto;line-height:normal;font-family:Menlo,'DejaVu Sans Mono',consolas,'Courier New',monospace\"><span style=\"font-weight: bold\">Model: \"sequential_2\"</span>\n",
       "</pre>\n"
      ],
      "text/plain": [
       "\u001b[1mModel: \"sequential_2\"\u001b[0m\n"
      ]
     },
     "metadata": {},
     "output_type": "display_data"
    },
    {
     "data": {
      "text/html": [
       "<pre style=\"white-space:pre;overflow-x:auto;line-height:normal;font-family:Menlo,'DejaVu Sans Mono',consolas,'Courier New',monospace\">┏━━━━━━━━━━━━━━━━━━━━━━━━━━━━━━━━━┳━━━━━━━━━━━━━━━━━━━━━━━━┳━━━━━━━━━━━━━━━┓\n",
       "┃<span style=\"font-weight: bold\"> Layer (type)                    </span>┃<span style=\"font-weight: bold\"> Output Shape           </span>┃<span style=\"font-weight: bold\">       Param # </span>┃\n",
       "┡━━━━━━━━━━━━━━━━━━━━━━━━━━━━━━━━━╇━━━━━━━━━━━━━━━━━━━━━━━━╇━━━━━━━━━━━━━━━┩\n",
       "│ embedding_2 (<span style=\"color: #0087ff; text-decoration-color: #0087ff\">Embedding</span>)         │ (<span style=\"color: #00d7ff; text-decoration-color: #00d7ff\">None</span>, <span style=\"color: #00af00; text-decoration-color: #00af00\">20</span>, <span style=\"color: #00af00; text-decoration-color: #00af00\">40</span>)         │       <span style=\"color: #00af00; text-decoration-color: #00af00\">400,000</span> │\n",
       "├─────────────────────────────────┼────────────────────────┼───────────────┤\n",
       "│ dropout_2 (<span style=\"color: #0087ff; text-decoration-color: #0087ff\">Dropout</span>)             │ (<span style=\"color: #00d7ff; text-decoration-color: #00d7ff\">None</span>, <span style=\"color: #00af00; text-decoration-color: #00af00\">20</span>, <span style=\"color: #00af00; text-decoration-color: #00af00\">40</span>)         │             <span style=\"color: #00af00; text-decoration-color: #00af00\">0</span> │\n",
       "├─────────────────────────────────┼────────────────────────┼───────────────┤\n",
       "│ lstm (<span style=\"color: #0087ff; text-decoration-color: #0087ff\">LSTM</span>)                     │ (<span style=\"color: #00d7ff; text-decoration-color: #00d7ff\">None</span>, <span style=\"color: #00af00; text-decoration-color: #00af00\">100</span>)            │        <span style=\"color: #00af00; text-decoration-color: #00af00\">56,400</span> │\n",
       "├─────────────────────────────────┼────────────────────────┼───────────────┤\n",
       "│ dropout_3 (<span style=\"color: #0087ff; text-decoration-color: #0087ff\">Dropout</span>)             │ (<span style=\"color: #00d7ff; text-decoration-color: #00d7ff\">None</span>, <span style=\"color: #00af00; text-decoration-color: #00af00\">100</span>)            │             <span style=\"color: #00af00; text-decoration-color: #00af00\">0</span> │\n",
       "├─────────────────────────────────┼────────────────────────┼───────────────┤\n",
       "│ dense_2 (<span style=\"color: #0087ff; text-decoration-color: #0087ff\">Dense</span>)                 │ (<span style=\"color: #00d7ff; text-decoration-color: #00d7ff\">None</span>, <span style=\"color: #00af00; text-decoration-color: #00af00\">1</span>)              │           <span style=\"color: #00af00; text-decoration-color: #00af00\">101</span> │\n",
       "└─────────────────────────────────┴────────────────────────┴───────────────┘\n",
       "</pre>\n"
      ],
      "text/plain": [
       "┏━━━━━━━━━━━━━━━━━━━━━━━━━━━━━━━━━┳━━━━━━━━━━━━━━━━━━━━━━━━┳━━━━━━━━━━━━━━━┓\n",
       "┃\u001b[1m \u001b[0m\u001b[1mLayer (type)                   \u001b[0m\u001b[1m \u001b[0m┃\u001b[1m \u001b[0m\u001b[1mOutput Shape          \u001b[0m\u001b[1m \u001b[0m┃\u001b[1m \u001b[0m\u001b[1m      Param #\u001b[0m\u001b[1m \u001b[0m┃\n",
       "┡━━━━━━━━━━━━━━━━━━━━━━━━━━━━━━━━━╇━━━━━━━━━━━━━━━━━━━━━━━━╇━━━━━━━━━━━━━━━┩\n",
       "│ embedding_2 (\u001b[38;5;33mEmbedding\u001b[0m)         │ (\u001b[38;5;45mNone\u001b[0m, \u001b[38;5;34m20\u001b[0m, \u001b[38;5;34m40\u001b[0m)         │       \u001b[38;5;34m400,000\u001b[0m │\n",
       "├─────────────────────────────────┼────────────────────────┼───────────────┤\n",
       "│ dropout_2 (\u001b[38;5;33mDropout\u001b[0m)             │ (\u001b[38;5;45mNone\u001b[0m, \u001b[38;5;34m20\u001b[0m, \u001b[38;5;34m40\u001b[0m)         │             \u001b[38;5;34m0\u001b[0m │\n",
       "├─────────────────────────────────┼────────────────────────┼───────────────┤\n",
       "│ lstm (\u001b[38;5;33mLSTM\u001b[0m)                     │ (\u001b[38;5;45mNone\u001b[0m, \u001b[38;5;34m100\u001b[0m)            │        \u001b[38;5;34m56,400\u001b[0m │\n",
       "├─────────────────────────────────┼────────────────────────┼───────────────┤\n",
       "│ dropout_3 (\u001b[38;5;33mDropout\u001b[0m)             │ (\u001b[38;5;45mNone\u001b[0m, \u001b[38;5;34m100\u001b[0m)            │             \u001b[38;5;34m0\u001b[0m │\n",
       "├─────────────────────────────────┼────────────────────────┼───────────────┤\n",
       "│ dense_2 (\u001b[38;5;33mDense\u001b[0m)                 │ (\u001b[38;5;45mNone\u001b[0m, \u001b[38;5;34m1\u001b[0m)              │           \u001b[38;5;34m101\u001b[0m │\n",
       "└─────────────────────────────────┴────────────────────────┴───────────────┘\n"
      ]
     },
     "metadata": {},
     "output_type": "display_data"
    },
    {
     "data": {
      "text/html": [
       "<pre style=\"white-space:pre;overflow-x:auto;line-height:normal;font-family:Menlo,'DejaVu Sans Mono',consolas,'Courier New',monospace\"><span style=\"font-weight: bold\"> Total params: </span><span style=\"color: #00af00; text-decoration-color: #00af00\">456,501</span> (1.74 MB)\n",
       "</pre>\n"
      ],
      "text/plain": [
       "\u001b[1m Total params: \u001b[0m\u001b[38;5;34m456,501\u001b[0m (1.74 MB)\n"
      ]
     },
     "metadata": {},
     "output_type": "display_data"
    },
    {
     "data": {
      "text/html": [
       "<pre style=\"white-space:pre;overflow-x:auto;line-height:normal;font-family:Menlo,'DejaVu Sans Mono',consolas,'Courier New',monospace\"><span style=\"font-weight: bold\"> Trainable params: </span><span style=\"color: #00af00; text-decoration-color: #00af00\">456,501</span> (1.74 MB)\n",
       "</pre>\n"
      ],
      "text/plain": [
       "\u001b[1m Trainable params: \u001b[0m\u001b[38;5;34m456,501\u001b[0m (1.74 MB)\n"
      ]
     },
     "metadata": {},
     "output_type": "display_data"
    },
    {
     "data": {
      "text/html": [
       "<pre style=\"white-space:pre;overflow-x:auto;line-height:normal;font-family:Menlo,'DejaVu Sans Mono',consolas,'Courier New',monospace\"><span style=\"font-weight: bold\"> Non-trainable params: </span><span style=\"color: #00af00; text-decoration-color: #00af00\">0</span> (0.00 B)\n",
       "</pre>\n"
      ],
      "text/plain": [
       "\u001b[1m Non-trainable params: \u001b[0m\u001b[38;5;34m0\u001b[0m (0.00 B)\n"
      ]
     },
     "metadata": {},
     "output_type": "display_data"
    },
    {
     "name": "stdout",
     "output_type": "stream",
     "text": [
      "Epoch 1/20\n",
      "\u001b[1m520/520\u001b[0m \u001b[32m━━━━━━━━━━━━━━━━━━━━\u001b[0m\u001b[37m\u001b[0m \u001b[1m12s\u001b[0m 21ms/step - accuracy: 0.8223 - loss: 0.3533 - val_accuracy: 0.9298 - val_loss: 0.1729\n",
      "Epoch 2/20\n",
      "\u001b[1m520/520\u001b[0m \u001b[32m━━━━━━━━━━━━━━━━━━━━\u001b[0m\u001b[37m\u001b[0m \u001b[1m10s\u001b[0m 20ms/step - accuracy: 0.9561 - loss: 0.1167 - val_accuracy: 0.9308 - val_loss: 0.1765\n",
      "Epoch 3/20\n",
      "\u001b[1m520/520\u001b[0m \u001b[32m━━━━━━━━━━━━━━━━━━━━\u001b[0m\u001b[37m\u001b[0m \u001b[1m10s\u001b[0m 20ms/step - accuracy: 0.9694 - loss: 0.0892 - val_accuracy: 0.9291 - val_loss: 0.1834\n",
      "Epoch 4/20\n",
      "\u001b[1m520/520\u001b[0m \u001b[32m━━━━━━━━━━━━━━━━━━━━\u001b[0m\u001b[37m\u001b[0m \u001b[1m10s\u001b[0m 20ms/step - accuracy: 0.9814 - loss: 0.0559 - val_accuracy: 0.9267 - val_loss: 0.2173\n"
     ]
    }
   ],
   "source": [
    "lstm_model, lstm_history = build_and_train_lstm(X_train, Y_train, X_test, Y_test, 10000,20)"
   ]
  },
  {
   "cell_type": "code",
   "execution_count": 70,
   "id": "a56637cf-5cc4-4b5c-9dab-5dea2b4ea356",
   "metadata": {},
   "outputs": [
    {
     "data": {
      "text/html": [
       "<pre style=\"white-space:pre;overflow-x:auto;line-height:normal;font-family:Menlo,'DejaVu Sans Mono',consolas,'Courier New',monospace\"><span style=\"font-weight: bold\">Model: \"sequential_3\"</span>\n",
       "</pre>\n"
      ],
      "text/plain": [
       "\u001b[1mModel: \"sequential_3\"\u001b[0m\n"
      ]
     },
     "metadata": {},
     "output_type": "display_data"
    },
    {
     "data": {
      "text/html": [
       "<pre style=\"white-space:pre;overflow-x:auto;line-height:normal;font-family:Menlo,'DejaVu Sans Mono',consolas,'Courier New',monospace\">┏━━━━━━━━━━━━━━━━━━━━━━━━━━━━━━━━━┳━━━━━━━━━━━━━━━━━━━━━━━━┳━━━━━━━━━━━━━━━┓\n",
       "┃<span style=\"font-weight: bold\"> Layer (type)                    </span>┃<span style=\"font-weight: bold\"> Output Shape           </span>┃<span style=\"font-weight: bold\">       Param # </span>┃\n",
       "┡━━━━━━━━━━━━━━━━━━━━━━━━━━━━━━━━━╇━━━━━━━━━━━━━━━━━━━━━━━━╇━━━━━━━━━━━━━━━┩\n",
       "│ embedding_3 (<span style=\"color: #0087ff; text-decoration-color: #0087ff\">Embedding</span>)         │ (<span style=\"color: #00d7ff; text-decoration-color: #00d7ff\">None</span>, <span style=\"color: #00af00; text-decoration-color: #00af00\">20</span>, <span style=\"color: #00af00; text-decoration-color: #00af00\">40</span>)         │       <span style=\"color: #00af00; text-decoration-color: #00af00\">200,000</span> │\n",
       "├─────────────────────────────────┼────────────────────────┼───────────────┤\n",
       "│ dropout_4 (<span style=\"color: #0087ff; text-decoration-color: #0087ff\">Dropout</span>)             │ (<span style=\"color: #00d7ff; text-decoration-color: #00d7ff\">None</span>, <span style=\"color: #00af00; text-decoration-color: #00af00\">20</span>, <span style=\"color: #00af00; text-decoration-color: #00af00\">40</span>)         │             <span style=\"color: #00af00; text-decoration-color: #00af00\">0</span> │\n",
       "├─────────────────────────────────┼────────────────────────┼───────────────┤\n",
       "│ lstm_1 (<span style=\"color: #0087ff; text-decoration-color: #0087ff\">LSTM</span>)                   │ (<span style=\"color: #00d7ff; text-decoration-color: #00d7ff\">None</span>, <span style=\"color: #00af00; text-decoration-color: #00af00\">100</span>)            │        <span style=\"color: #00af00; text-decoration-color: #00af00\">56,400</span> │\n",
       "├─────────────────────────────────┼────────────────────────┼───────────────┤\n",
       "│ dropout_5 (<span style=\"color: #0087ff; text-decoration-color: #0087ff\">Dropout</span>)             │ (<span style=\"color: #00d7ff; text-decoration-color: #00d7ff\">None</span>, <span style=\"color: #00af00; text-decoration-color: #00af00\">100</span>)            │             <span style=\"color: #00af00; text-decoration-color: #00af00\">0</span> │\n",
       "├─────────────────────────────────┼────────────────────────┼───────────────┤\n",
       "│ dense_3 (<span style=\"color: #0087ff; text-decoration-color: #0087ff\">Dense</span>)                 │ (<span style=\"color: #00d7ff; text-decoration-color: #00d7ff\">None</span>, <span style=\"color: #00af00; text-decoration-color: #00af00\">1</span>)              │           <span style=\"color: #00af00; text-decoration-color: #00af00\">101</span> │\n",
       "└─────────────────────────────────┴────────────────────────┴───────────────┘\n",
       "</pre>\n"
      ],
      "text/plain": [
       "┏━━━━━━━━━━━━━━━━━━━━━━━━━━━━━━━━━┳━━━━━━━━━━━━━━━━━━━━━━━━┳━━━━━━━━━━━━━━━┓\n",
       "┃\u001b[1m \u001b[0m\u001b[1mLayer (type)                   \u001b[0m\u001b[1m \u001b[0m┃\u001b[1m \u001b[0m\u001b[1mOutput Shape          \u001b[0m\u001b[1m \u001b[0m┃\u001b[1m \u001b[0m\u001b[1m      Param #\u001b[0m\u001b[1m \u001b[0m┃\n",
       "┡━━━━━━━━━━━━━━━━━━━━━━━━━━━━━━━━━╇━━━━━━━━━━━━━━━━━━━━━━━━╇━━━━━━━━━━━━━━━┩\n",
       "│ embedding_3 (\u001b[38;5;33mEmbedding\u001b[0m)         │ (\u001b[38;5;45mNone\u001b[0m, \u001b[38;5;34m20\u001b[0m, \u001b[38;5;34m40\u001b[0m)         │       \u001b[38;5;34m200,000\u001b[0m │\n",
       "├─────────────────────────────────┼────────────────────────┼───────────────┤\n",
       "│ dropout_4 (\u001b[38;5;33mDropout\u001b[0m)             │ (\u001b[38;5;45mNone\u001b[0m, \u001b[38;5;34m20\u001b[0m, \u001b[38;5;34m40\u001b[0m)         │             \u001b[38;5;34m0\u001b[0m │\n",
       "├─────────────────────────────────┼────────────────────────┼───────────────┤\n",
       "│ lstm_1 (\u001b[38;5;33mLSTM\u001b[0m)                   │ (\u001b[38;5;45mNone\u001b[0m, \u001b[38;5;34m100\u001b[0m)            │        \u001b[38;5;34m56,400\u001b[0m │\n",
       "├─────────────────────────────────┼────────────────────────┼───────────────┤\n",
       "│ dropout_5 (\u001b[38;5;33mDropout\u001b[0m)             │ (\u001b[38;5;45mNone\u001b[0m, \u001b[38;5;34m100\u001b[0m)            │             \u001b[38;5;34m0\u001b[0m │\n",
       "├─────────────────────────────────┼────────────────────────┼───────────────┤\n",
       "│ dense_3 (\u001b[38;5;33mDense\u001b[0m)                 │ (\u001b[38;5;45mNone\u001b[0m, \u001b[38;5;34m1\u001b[0m)              │           \u001b[38;5;34m101\u001b[0m │\n",
       "└─────────────────────────────────┴────────────────────────┴───────────────┘\n"
      ]
     },
     "metadata": {},
     "output_type": "display_data"
    },
    {
     "data": {
      "text/html": [
       "<pre style=\"white-space:pre;overflow-x:auto;line-height:normal;font-family:Menlo,'DejaVu Sans Mono',consolas,'Courier New',monospace\"><span style=\"font-weight: bold\"> Total params: </span><span style=\"color: #00af00; text-decoration-color: #00af00\">256,501</span> (1001.96 KB)\n",
       "</pre>\n"
      ],
      "text/plain": [
       "\u001b[1m Total params: \u001b[0m\u001b[38;5;34m256,501\u001b[0m (1001.96 KB)\n"
      ]
     },
     "metadata": {},
     "output_type": "display_data"
    },
    {
     "data": {
      "text/html": [
       "<pre style=\"white-space:pre;overflow-x:auto;line-height:normal;font-family:Menlo,'DejaVu Sans Mono',consolas,'Courier New',monospace\"><span style=\"font-weight: bold\"> Trainable params: </span><span style=\"color: #00af00; text-decoration-color: #00af00\">256,501</span> (1001.96 KB)\n",
       "</pre>\n"
      ],
      "text/plain": [
       "\u001b[1m Trainable params: \u001b[0m\u001b[38;5;34m256,501\u001b[0m (1001.96 KB)\n"
      ]
     },
     "metadata": {},
     "output_type": "display_data"
    },
    {
     "data": {
      "text/html": [
       "<pre style=\"white-space:pre;overflow-x:auto;line-height:normal;font-family:Menlo,'DejaVu Sans Mono',consolas,'Courier New',monospace\"><span style=\"font-weight: bold\"> Non-trainable params: </span><span style=\"color: #00af00; text-decoration-color: #00af00\">0</span> (0.00 B)\n",
       "</pre>\n"
      ],
      "text/plain": [
       "\u001b[1m Non-trainable params: \u001b[0m\u001b[38;5;34m0\u001b[0m (0.00 B)\n"
      ]
     },
     "metadata": {},
     "output_type": "display_data"
    },
    {
     "name": "stdout",
     "output_type": "stream",
     "text": [
      "\u001b[1m5/5\u001b[0m \u001b[32m━━━━━━━━━━━━━━━━━━━━\u001b[0m\u001b[37m\u001b[0m \u001b[1m2s\u001b[0m 89ms/step - accuracy: 0.5375 - loss: 0.6949 - val_accuracy: 0.6000 - val_loss: 0.6927\n"
     ]
    },
    {
     "name": "stderr",
     "output_type": "stream",
     "text": [
      ".\n",
      "----------------------------------------------------------------------\n",
      "Ran 1 test in 2.220s\n",
      "\n",
      "OK\n"
     ]
    },
    {
     "data": {
      "text/plain": [
       "<unittest.runner.TextTestResult run=1 errors=0 failures=0>"
      ]
     },
     "execution_count": 70,
     "metadata": {},
     "output_type": "execute_result"
    }
   ],
   "source": [
    "class TestBuildAndTrainLSTM(unittest.TestCase):\n",
    "    def test_lstm_training(self):\n",
    "        X_train = np.random.randint(0, 5000, (10, 20))\n",
    "        Y_train = np.random.randint(0, 2, 10)\n",
    "        X_test = np.random.randint(0, 5000, (5, 20))\n",
    "        Y_test = np.random.randint(0, 2, 5)\n",
    "\n",
    "        voc = 5000\n",
    "        max_len = 20\n",
    "\n",
    "        model, history = build_and_train_lstm(X_train, Y_train, X_test, Y_test, voc, max_len, epochs=1, batch_size=2)\n",
    "\n",
    "        self.assertIsNotNone(model)\n",
    "        self.assertTrue(hasattr(model, \"predict\"))\n",
    "        self.assertIn(\"accuracy\", history.history)\n",
    "\n",
    "# Run the test\n",
    "unittest.TextTestRunner().run(unittest.TestLoader().loadTestsFromTestCase(TestBuildAndTrainLSTM))"
   ]
  },
  {
   "cell_type": "code",
   "execution_count": 72,
   "id": "507ae2e9-2c63-40cb-bf5b-d98487e520c0",
   "metadata": {},
   "outputs": [],
   "source": [
    "def evaluate_lstm_model(model, history, X_test, Y_test, messages):\n",
    "    y_pred = model.predict(X_test)\n",
    "    y_pred_classes = (y_pred > 0.5).astype(int)\n",
    "\n",
    "    acc = accuracy_score(Y_test, y_pred_classes)\n",
    "    cm = confusion_matrix(Y_test, y_pred_classes)\n",
    "\n",
    "    print(\"LSTM Model Evaluation\")\n",
    "    print(\"Accuracy Score:\", acc)\n",
    "    print(\"Confusion Matrix:\\n\", cm)\n",
    "    print(\"Classification Report:\\n\", classification_report(Y_test, y_pred_classes))\n",
    "\n",
    "    plt.figure(figsize=(12, 5))\n",
    "    plt.subplot(1, 2, 1)\n",
    "    plt.plot(history.history[\"accuracy\"], label=\"Training Accuracy\", c=\"red\")\n",
    "    plt.plot(history.history[\"val_accuracy\"], label=\"Validation Accuracy\", c=\"blue\")\n",
    "    plt.title(\"LSTM Accuracy\")\n",
    "    plt.xlabel(\"Epoch\")\n",
    "    plt.ylabel(\"Accuracy\")\n",
    "    plt.legend()\n",
    "\n",
    "    plt.subplot(1, 2, 2)\n",
    "    plt.plot(history.history[\"loss\"], label=\"Training Loss\", c=\"red\")\n",
    "    plt.plot(history.history[\"val_loss\"], label=\"Validation Loss\", c=\"blue\")\n",
    "    plt.title(\"LSTM Loss\")\n",
    "    plt.xlabel(\"Epoch\")\n",
    "    plt.ylabel(\"Loss\")\n",
    "    plt.legend()\n",
    "    plt.tight_layout()\n",
    "    plt.show()\n",
    "\n",
    "    plt.figure(figsize=(6, 5))\n",
    "    sns.heatmap(cm, annot=True, fmt='d', cmap='Blues', xticklabels=['Pred 0', 'Pred 1'], yticklabels=['True 0', 'True 1'])\n",
    "    plt.title(\"LSTM Confusion Matrix\")\n",
    "    plt.ylabel(\"True label\")\n",
    "    plt.xlabel(\"Predicted label\")\n",
    "    plt.show()\n",
    "\n",
    "    wrong_indices = np.where(Y_test != y_pred_classes.reshape(-1))[0]\n",
    "    print(\"\\nLSTM Wrong Predictions with Details:\")\n",
    "    for i, idx in enumerate(wrong_indices[:5]):\n",
    "        print(f\"\\nExample {i+1}:\")\n",
    "        print(f\"Title: {messages.loc[idx, 'title']}\")\n",
    "        print(f\"Author: {messages.loc[idx, 'author']}\")\n",
    "        print(f\"Actual: {Y_test[idx]}, Predicted: {y_pred_classes[idx][0]}\")"
   ]
  },
  {
   "cell_type": "code",
   "execution_count": 74,
   "id": "5a0633d1-1cb7-42af-8011-9046519f3d6e",
   "metadata": {},
   "outputs": [
    {
     "name": "stdout",
     "output_type": "stream",
     "text": [
      "\u001b[1m130/130\u001b[0m \u001b[32m━━━━━━━━━━━━━━━━━━━━\u001b[0m\u001b[37m\u001b[0m \u001b[1m1s\u001b[0m 7ms/step\n",
      "LSTM Model Evaluation\n",
      "Accuracy Score: 0.9298076923076923\n",
      "Confusion Matrix:\n",
      " [[1866  219]\n",
      " [  73 2002]]\n",
      "Classification Report:\n",
      "               precision    recall  f1-score   support\n",
      "\n",
      "           0       0.96      0.89      0.93      2085\n",
      "           1       0.90      0.96      0.93      2075\n",
      "\n",
      "    accuracy                           0.93      4160\n",
      "   macro avg       0.93      0.93      0.93      4160\n",
      "weighted avg       0.93      0.93      0.93      4160\n",
      "\n"
     ]
    },
    {
     "data": {
      "image/png": "[encoded data removed]",
      "text/plain": [
       "<Figure size 1200x500 with 2 Axes>"
      ]
     },
     "metadata": {},
     "output_type": "display_data"
    },
    {
     "data": {
      "image/png": "[encoded data removed]",
      "text/plain": [
       "<Figure size 600x500 with 2 Axes>"
      ]
     },
     "metadata": {},
     "output_type": "display_data"
    },
    {
     "name": "stdout",
     "output_type": "stream",
     "text": [
      "\n",
      "LSTM Wrong Predictions with Details:\n",
      "\n",
      "Example 1:\n",
      "Title: US Officials See No Link Between Trump and Russia\n",
      "Author: Jason Ditz\n",
      "Actual: 0, Predicted: 1\n",
      "\n",
      "Example 2:\n",
      "Title: Abortion Pill Orders Rise in 7 Latin American Nations on Zika Alert - The New York Times\n",
      "Author: Donald G. McNeil Jr. and Pam Belluck\n",
      "Actual: 0, Predicted: 1\n",
      "\n",
      "Example 3:\n",
      "Title: Humiliated Hillary Tries To Hide What Camera Caught 15 Mins Before Rally\n",
      "Author: Amanda Shea\n",
      "Actual: 0, Predicted: 1\n",
      "\n",
      "Example 4:\n",
      "Title: Pence Will Speak at Anti-Abortion Rally - The New York Times\n",
      "Author: Jeremy W. Peters\n",
      "Actual: 0, Predicted: 1\n",
      "\n",
      "Example 5:\n",
      "Title: Hillary Clinton Builds $150 Million War Chest, Doubling Donald Trump - The New York Times\n",
      "Author: Nicholas Confessore and Rachel Shorey\n",
      "Actual: 0, Predicted: 1\n"
     ]
    }
   ],
   "source": [
    "evaluate_lstm_model(lstm_model, lstm_history, X_test, Y_test, messages)"
   ]
  },
  {
   "cell_type": "markdown",
   "id": "32c6740b-9355-43d9-a6ca-ee9e96aed30c",
   "metadata": {},
   "source": [
    "# Save Model"
   ]
  },
  {
   "cell_type": "code",
   "execution_count": 77,
   "id": "50253fbe-1ce0-42a1-bbbc-956d03b5abb9",
   "metadata": {},
   "outputs": [],
   "source": [
    "def save_model(model, path):\n",
    "    \"\"\"\n",
    "    Save a trained Keras model in .h5 format.\n",
    "\n",
    "    Args:\n",
    "        model (Sequential): The trained Keras model.\n",
    "        path (str): File path to save the model.\n",
    "    \"\"\"\n",
    "    model.save(path)\n",
    "    print(f\"Model saved to {path}\")"
   ]
  },
  {
   "cell_type": "code",
   "execution_count": 79,
   "id": "e9b1fa4d-4156-4790-88bc-bb733af52ebc",
   "metadata": {},
   "outputs": [
    {
     "name": "stdout",
     "output_type": "stream",
     "text": [
      "Model saved to lstm_model.keras\n"
     ]
    }
   ],
   "source": [
    "save_model(lstm_model,\"lstm_model.keras\")"
   ]
  },
  {
   "cell_type": "code",
   "execution_count": 81,
   "id": "f49be90c-1549-4883-bdae-23feb9920aeb",
   "metadata": {},
   "outputs": [
    {
     "name": "stdout",
     "output_type": "stream",
     "text": [
      "Model saved to rnn_model.keras\n"
     ]
    }
   ],
   "source": [
    "save_model(rnn_model,\"rnn_model.keras\")"
   ]
  }
 ],
 "metadata": {
  "kernelspec": {
   "display_name": "Python 3 (ipykernel)",
   "language": "python",
   "name": "python3"
  },
  "language_info": {
   "codemirror_mode": {
    "name": "ipython",
    "version": 3
   },
   "file_extension": ".py",
   "mimetype": "text/x-python",
   "name": "python",
   "nbconvert_exporter": "python",
   "pygments_lexer": "ipython3",
   "version": "3.12.7"
  }
 },
 "nbformat": 4,
 "nbformat_minor": 5
}
