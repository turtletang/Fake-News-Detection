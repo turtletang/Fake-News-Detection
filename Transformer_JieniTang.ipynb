{
 "cells": [
  {
   "cell_type": "code",
   "execution_count": 2,
   "id": "0bd7b0a8-d138-4d78-9cde-2b1d9552b376",
   "metadata": {},
   "outputs": [],
   "source": [
    "import numpy as np\n",
    "import pandas as pd\n",
    "import re\n",
    "import nltk\n",
    "from nltk.corpus import stopwords\n",
    "from nltk.stem.porter import PorterStemmer\n",
    "from sklearn.feature_extraction.text import TfidfVectorizer\n",
    "from sklearn.model_selection import train_test_split\n",
    "from sklearn.svm import SVC\n",
    "from sklearn.metrics import accuracy_score\n",
    "from nltk.stem.porter import PorterStemmer\n",
    "from sklearn.metrics import confusion_matrix\n",
    "from sklearn.metrics import classification_report"
   ]
  },
  {
   "cell_type": "markdown",
   "id": "69b4ad3e-3e96-4fb0-aacd-ae0276df1b73",
   "metadata": {},
   "source": [
    "## BERT-specific imports"
   ]
  },
  {
   "cell_type": "code",
   "execution_count": 4,
   "id": "035ad8f1-622a-4638-9b49-43db39a59222",
   "metadata": {},
   "outputs": [
    {
     "name": "stdout",
     "output_type": "stream",
     "text": [
      "Requirement already satisfied: torch in /opt/anaconda3/lib/python3.10/site-packages (2.6.0)\n",
      "Requirement already satisfied: filelock in /opt/anaconda3/lib/python3.10/site-packages (from torch) (3.13.1)\n",
      "Requirement already satisfied: typing-extensions>=4.10.0 in /opt/anaconda3/lib/python3.10/site-packages (from torch) (4.12.2)\n",
      "Requirement already satisfied: networkx in /opt/anaconda3/lib/python3.10/site-packages (from torch) (3.4.2)\n",
      "Requirement already satisfied: jinja2 in /opt/anaconda3/lib/python3.10/site-packages (from torch) (3.1.5)\n",
      "Requirement already satisfied: fsspec in /opt/anaconda3/lib/python3.10/site-packages (from torch) (2024.12.0)\n",
      "Requirement already satisfied: sympy==1.13.1 in /opt/anaconda3/lib/python3.10/site-packages (from torch) (1.13.1)\n",
      "Requirement already satisfied: mpmath<1.4,>=1.1.0 in /opt/anaconda3/lib/python3.10/site-packages (from sympy==1.13.1->torch) (1.3.0)\n",
      "Requirement already satisfied: MarkupSafe>=2.0 in /opt/anaconda3/lib/python3.10/site-packages (from jinja2->torch) (3.0.2)\n"
     ]
    }
   ],
   "source": [
    "!pip install torch"
   ]
  },
  {
   "cell_type": "code",
   "execution_count": 5,
   "id": "59a9b127-2fb3-4ba6-8300-85874e7030d1",
   "metadata": {},
   "outputs": [
    {
     "name": "stdout",
     "output_type": "stream",
     "text": [
      "Requirement already satisfied: transformers in /opt/anaconda3/lib/python3.10/site-packages (4.51.2)\n",
      "Requirement already satisfied: filelock in /opt/anaconda3/lib/python3.10/site-packages (from transformers) (3.13.1)\n",
      "Requirement already satisfied: huggingface-hub<1.0,>=0.30.0 in /opt/anaconda3/lib/python3.10/site-packages (from transformers) (0.30.2)\n",
      "Requirement already satisfied: numpy>=1.17 in /opt/anaconda3/lib/python3.10/site-packages (from transformers) (1.26.4)\n",
      "Requirement already satisfied: packaging>=20.0 in /opt/anaconda3/lib/python3.10/site-packages (from transformers) (24.2)\n",
      "Requirement already satisfied: pyyaml>=5.1 in /opt/anaconda3/lib/python3.10/site-packages (from transformers) (6.0.2)\n",
      "Requirement already satisfied: regex!=2019.12.17 in /opt/anaconda3/lib/python3.10/site-packages (from transformers) (2024.11.6)\n",
      "Requirement already satisfied: requests in /opt/anaconda3/lib/python3.10/site-packages (from transformers) (2.32.3)\n",
      "Requirement already satisfied: tokenizers<0.22,>=0.21 in /opt/anaconda3/lib/python3.10/site-packages (from transformers) (0.21.1)\n",
      "Requirement already satisfied: safetensors>=0.4.3 in /opt/anaconda3/lib/python3.10/site-packages (from transformers) (0.5.3)\n",
      "Requirement already satisfied: tqdm>=4.27 in /opt/anaconda3/lib/python3.10/site-packages (from transformers) (4.67.1)\n",
      "Requirement already satisfied: fsspec>=2023.5.0 in /opt/anaconda3/lib/python3.10/site-packages (from huggingface-hub<1.0,>=0.30.0->transformers) (2024.12.0)\n",
      "Requirement already satisfied: typing-extensions>=3.7.4.3 in /opt/anaconda3/lib/python3.10/site-packages (from huggingface-hub<1.0,>=0.30.0->transformers) (4.12.2)\n",
      "Requirement already satisfied: charset-normalizer<4,>=2 in /opt/anaconda3/lib/python3.10/site-packages (from requests->transformers) (3.3.2)\n",
      "Requirement already satisfied: idna<4,>=2.5 in /opt/anaconda3/lib/python3.10/site-packages (from requests->transformers) (3.7)\n",
      "Requirement already satisfied: urllib3<3,>=1.21.1 in /opt/anaconda3/lib/python3.10/site-packages (from requests->transformers) (2.3.0)\n",
      "Requirement already satisfied: certifi>=2017.4.17 in /opt/anaconda3/lib/python3.10/site-packages (from requests->transformers) (2025.1.31)\n"
     ]
    }
   ],
   "source": [
    "!pip install transformers"
   ]
  },
  {
   "cell_type": "code",
   "execution_count": 6,
   "id": "14b261e2-252a-4c1d-a9dd-694a4b117102",
   "metadata": {},
   "outputs": [
    {
     "name": "stdout",
     "output_type": "stream",
     "text": [
      "Requirement already satisfied: tqdm in /opt/anaconda3/lib/python3.10/site-packages (4.67.1)\n",
      "Requirement already satisfied: matplotlib in /opt/anaconda3/lib/python3.10/site-packages (3.10.0)\n",
      "Requirement already satisfied: contourpy>=1.0.1 in /opt/anaconda3/lib/python3.10/site-packages (from matplotlib) (1.3.1)\n",
      "Requirement already satisfied: cycler>=0.10 in /opt/anaconda3/lib/python3.10/site-packages (from matplotlib) (0.11.0)\n",
      "Requirement already satisfied: fonttools>=4.22.0 in /opt/anaconda3/lib/python3.10/site-packages (from matplotlib) (4.55.3)\n",
      "Requirement already satisfied: kiwisolver>=1.3.1 in /opt/anaconda3/lib/python3.10/site-packages (from matplotlib) (1.4.8)\n",
      "Requirement already satisfied: numpy>=1.23 in /opt/anaconda3/lib/python3.10/site-packages (from matplotlib) (1.26.4)\n",
      "Requirement already satisfied: packaging>=20.0 in /opt/anaconda3/lib/python3.10/site-packages (from matplotlib) (24.2)\n",
      "Requirement already satisfied: pillow>=8 in /opt/anaconda3/lib/python3.10/site-packages (from matplotlib) (11.1.0)\n",
      "Requirement already satisfied: pyparsing>=2.3.1 in /opt/anaconda3/lib/python3.10/site-packages (from matplotlib) (3.2.0)\n",
      "Requirement already satisfied: python-dateutil>=2.7 in /opt/anaconda3/lib/python3.10/site-packages (from matplotlib) (2.9.0.post0)\n",
      "Requirement already satisfied: six>=1.5 in /opt/anaconda3/lib/python3.10/site-packages (from python-dateutil>=2.7->matplotlib) (1.16.0)\n"
     ]
    }
   ],
   "source": [
    "!pip install tqdm matplotlib"
   ]
  },
  {
   "cell_type": "code",
   "execution_count": 7,
   "id": "dfbadfd1-0c88-4134-91c6-c67a0dccdb18",
   "metadata": {},
   "outputs": [],
   "source": [
    "# BERT-specific imports\n",
    "import torch\n",
    "from torch.utils.data import Dataset, DataLoader\n",
    "from transformers import BertTokenizer, BertForSequenceClassification\n",
    "from torch.optim import AdamW\n",
    "from tqdm import tqdm\n",
    "import matplotlib.pyplot as plt"
   ]
  },
  {
   "cell_type": "markdown",
   "id": "95213495-fabe-4afb-a0d7-5713a1bea9db",
   "metadata": {},
   "source": [
    "## Check if GPU is available"
   ]
  },
  {
   "cell_type": "code",
   "execution_count": 9,
   "id": "d71cb0b6-3b6d-493c-a48f-59cd9e684f16",
   "metadata": {},
   "outputs": [
    {
     "name": "stdout",
     "output_type": "stream",
     "text": [
      "Using device: cpu\n"
     ]
    }
   ],
   "source": [
    "device = torch.device(\"cuda\" if torch.cuda.is_available() else \"cpu\")\n",
    "print(f\"Using device: {device}\")"
   ]
  },
  {
   "cell_type": "markdown",
   "id": "88a132a7-2d9f-49fc-9c94-cc1a8b1b8eef",
   "metadata": {},
   "source": [
    "# Load dataset"
   ]
  },
  {
   "cell_type": "code",
   "execution_count": 11,
   "id": "b7f22a2b-2c50-425c-a294-ba912bf49f14",
   "metadata": {},
   "outputs": [],
   "source": [
    "df = pd.read_csv('train.csv') # Only load train data, test data does not have label"
   ]
  },
  {
   "cell_type": "code",
   "execution_count": 12,
   "id": "e05407a7-7bc2-47b0-b8cd-f1804a5a09dd",
   "metadata": {},
   "outputs": [
    {
     "data": {
      "text/plain": [
       "(20800, 5)"
      ]
     },
     "execution_count": 12,
     "metadata": {},
     "output_type": "execute_result"
    }
   ],
   "source": [
    "df.shape # Size of data"
   ]
  },
  {
   "cell_type": "code",
   "execution_count": 13,
   "id": "4ca5bb3f-746c-479b-9fc3-f905240dfaaf",
   "metadata": {},
   "outputs": [
    {
     "data": {
      "text/html": [
       "<div>\n",
       "<style scoped>\n",
       "    .dataframe tbody tr th:only-of-type {\n",
       "        vertical-align: middle;\n",
       "    }\n",
       "\n",
       "    .dataframe tbody tr th {\n",
       "        vertical-align: top;\n",
       "    }\n",
       "\n",
       "    .dataframe thead th {\n",
       "        text-align: right;\n",
       "    }\n",
       "</style>\n",
       "<table border=\"1\" class=\"dataframe\">\n",
       "  <thead>\n",
       "    <tr style=\"text-align: right;\">\n",
       "      <th></th>\n",
       "      <th>id</th>\n",
       "      <th>title</th>\n",
       "      <th>author</th>\n",
       "      <th>text</th>\n",
       "      <th>label</th>\n",
       "    </tr>\n",
       "  </thead>\n",
       "  <tbody>\n",
       "    <tr>\n",
       "      <th>0</th>\n",
       "      <td>0</td>\n",
       "      <td>House Dem Aide: We Didn’t Even See Comey’s Let...</td>\n",
       "      <td>Darrell Lucus</td>\n",
       "      <td>House Dem Aide: We Didn’t Even See Comey’s Let...</td>\n",
       "      <td>1</td>\n",
       "    </tr>\n",
       "    <tr>\n",
       "      <th>1</th>\n",
       "      <td>1</td>\n",
       "      <td>FLYNN: Hillary Clinton, Big Woman on Campus - ...</td>\n",
       "      <td>Daniel J. Flynn</td>\n",
       "      <td>Ever get the feeling your life circles the rou...</td>\n",
       "      <td>0</td>\n",
       "    </tr>\n",
       "    <tr>\n",
       "      <th>2</th>\n",
       "      <td>2</td>\n",
       "      <td>Why the Truth Might Get You Fired</td>\n",
       "      <td>Consortiumnews.com</td>\n",
       "      <td>Why the Truth Might Get You Fired October 29, ...</td>\n",
       "      <td>1</td>\n",
       "    </tr>\n",
       "    <tr>\n",
       "      <th>3</th>\n",
       "      <td>3</td>\n",
       "      <td>15 Civilians Killed In Single US Airstrike Hav...</td>\n",
       "      <td>Jessica Purkiss</td>\n",
       "      <td>Videos 15 Civilians Killed In Single US Airstr...</td>\n",
       "      <td>1</td>\n",
       "    </tr>\n",
       "    <tr>\n",
       "      <th>4</th>\n",
       "      <td>4</td>\n",
       "      <td>Iranian woman jailed for fictional unpublished...</td>\n",
       "      <td>Howard Portnoy</td>\n",
       "      <td>Print \\nAn Iranian woman has been sentenced to...</td>\n",
       "      <td>1</td>\n",
       "    </tr>\n",
       "  </tbody>\n",
       "</table>\n",
       "</div>"
      ],
      "text/plain": [
       "   id                                              title              author  \\\n",
       "0   0  House Dem Aide: We Didn’t Even See Comey’s Let...       Darrell Lucus   \n",
       "1   1  FLYNN: Hillary Clinton, Big Woman on Campus - ...     Daniel J. Flynn   \n",
       "2   2                  Why the Truth Might Get You Fired  Consortiumnews.com   \n",
       "3   3  15 Civilians Killed In Single US Airstrike Hav...     Jessica Purkiss   \n",
       "4   4  Iranian woman jailed for fictional unpublished...      Howard Portnoy   \n",
       "\n",
       "                                                text  label  \n",
       "0  House Dem Aide: We Didn’t Even See Comey’s Let...      1  \n",
       "1  Ever get the feeling your life circles the rou...      0  \n",
       "2  Why the Truth Might Get You Fired October 29, ...      1  \n",
       "3  Videos 15 Civilians Killed In Single US Airstr...      1  \n",
       "4  Print \\nAn Iranian woman has been sentenced to...      1  "
      ]
     },
     "execution_count": 13,
     "metadata": {},
     "output_type": "execute_result"
    }
   ],
   "source": [
    "df.head() # Show few lines"
   ]
  },
  {
   "cell_type": "code",
   "execution_count": 14,
   "id": "cf3f1a5d-97a7-4ad9-893a-1a56aa74851f",
   "metadata": {},
   "outputs": [
    {
     "data": {
      "text/plain": [
       "label\n",
       "1    10413\n",
       "0    10387\n",
       "Name: count, dtype: int64"
      ]
     },
     "execution_count": 14,
     "metadata": {},
     "output_type": "execute_result"
    }
   ],
   "source": [
    "df['label'].value_counts() # check if label balancing is needed"
   ]
  },
  {
   "cell_type": "code",
   "execution_count": 15,
   "id": "d426dd6d-2e4b-43f0-bb60-647844f841bc",
   "metadata": {},
   "outputs": [
    {
     "data": {
      "text/plain": [
       "id           0\n",
       "title      558\n",
       "author    1957\n",
       "text        39\n",
       "label        0\n",
       "dtype: int64"
      ]
     },
     "execution_count": 15,
     "metadata": {},
     "output_type": "execute_result"
    }
   ],
   "source": [
    "df.isnull().sum() # checking the missing values"
   ]
  },
  {
   "cell_type": "code",
   "execution_count": 16,
   "id": "6a059ba1-4b17-4b24-a33e-02b8e5bc9587",
   "metadata": {},
   "outputs": [],
   "source": [
    "#replacing null values with empty string\n",
    "df = df.fillna('')"
   ]
  },
  {
   "cell_type": "code",
   "execution_count": 17,
   "id": "96fb4e81-25a1-4718-9d8d-d2d0df7beee0",
   "metadata": {},
   "outputs": [
    {
     "data": {
      "text/plain": [
       "id        0\n",
       "title     0\n",
       "author    0\n",
       "text      0\n",
       "label     0\n",
       "dtype: int64"
      ]
     },
     "execution_count": 17,
     "metadata": {},
     "output_type": "execute_result"
    }
   ],
   "source": [
    "df.isnull().sum() # checking the missing values after replacing"
   ]
  },
  {
   "cell_type": "code",
   "execution_count": 18,
   "id": "ea29e013-dd7d-487e-ab5e-fce657fd7c3b",
   "metadata": {},
   "outputs": [],
   "source": [
    "# merging the author name and news title, using text will take a lot of time and doesn't give a better score\n",
    "df['content'] = df['title'] + \" \" + df['author']"
   ]
  },
  {
   "cell_type": "code",
   "execution_count": 19,
   "id": "9c96a497-8ea1-47c2-9ac4-654c4be8bd97",
   "metadata": {},
   "outputs": [
    {
     "data": {
      "text/html": [
       "<div>\n",
       "<style scoped>\n",
       "    .dataframe tbody tr th:only-of-type {\n",
       "        vertical-align: middle;\n",
       "    }\n",
       "\n",
       "    .dataframe tbody tr th {\n",
       "        vertical-align: top;\n",
       "    }\n",
       "\n",
       "    .dataframe thead th {\n",
       "        text-align: right;\n",
       "    }\n",
       "</style>\n",
       "<table border=\"1\" class=\"dataframe\">\n",
       "  <thead>\n",
       "    <tr style=\"text-align: right;\">\n",
       "      <th></th>\n",
       "      <th>id</th>\n",
       "      <th>title</th>\n",
       "      <th>author</th>\n",
       "      <th>text</th>\n",
       "      <th>label</th>\n",
       "      <th>content</th>\n",
       "    </tr>\n",
       "  </thead>\n",
       "  <tbody>\n",
       "    <tr>\n",
       "      <th>0</th>\n",
       "      <td>0</td>\n",
       "      <td>House Dem Aide: We Didn’t Even See Comey’s Let...</td>\n",
       "      <td>Darrell Lucus</td>\n",
       "      <td>House Dem Aide: We Didn’t Even See Comey’s Let...</td>\n",
       "      <td>1</td>\n",
       "      <td>House Dem Aide: We Didn’t Even See Comey’s Let...</td>\n",
       "    </tr>\n",
       "    <tr>\n",
       "      <th>1</th>\n",
       "      <td>1</td>\n",
       "      <td>FLYNN: Hillary Clinton, Big Woman on Campus - ...</td>\n",
       "      <td>Daniel J. Flynn</td>\n",
       "      <td>Ever get the feeling your life circles the rou...</td>\n",
       "      <td>0</td>\n",
       "      <td>FLYNN: Hillary Clinton, Big Woman on Campus - ...</td>\n",
       "    </tr>\n",
       "    <tr>\n",
       "      <th>2</th>\n",
       "      <td>2</td>\n",
       "      <td>Why the Truth Might Get You Fired</td>\n",
       "      <td>Consortiumnews.com</td>\n",
       "      <td>Why the Truth Might Get You Fired October 29, ...</td>\n",
       "      <td>1</td>\n",
       "      <td>Why the Truth Might Get You Fired Consortiumne...</td>\n",
       "    </tr>\n",
       "    <tr>\n",
       "      <th>3</th>\n",
       "      <td>3</td>\n",
       "      <td>15 Civilians Killed In Single US Airstrike Hav...</td>\n",
       "      <td>Jessica Purkiss</td>\n",
       "      <td>Videos 15 Civilians Killed In Single US Airstr...</td>\n",
       "      <td>1</td>\n",
       "      <td>15 Civilians Killed In Single US Airstrike Hav...</td>\n",
       "    </tr>\n",
       "    <tr>\n",
       "      <th>4</th>\n",
       "      <td>4</td>\n",
       "      <td>Iranian woman jailed for fictional unpublished...</td>\n",
       "      <td>Howard Portnoy</td>\n",
       "      <td>Print \\nAn Iranian woman has been sentenced to...</td>\n",
       "      <td>1</td>\n",
       "      <td>Iranian woman jailed for fictional unpublished...</td>\n",
       "    </tr>\n",
       "  </tbody>\n",
       "</table>\n",
       "</div>"
      ],
      "text/plain": [
       "   id                                              title              author  \\\n",
       "0   0  House Dem Aide: We Didn’t Even See Comey’s Let...       Darrell Lucus   \n",
       "1   1  FLYNN: Hillary Clinton, Big Woman on Campus - ...     Daniel J. Flynn   \n",
       "2   2                  Why the Truth Might Get You Fired  Consortiumnews.com   \n",
       "3   3  15 Civilians Killed In Single US Airstrike Hav...     Jessica Purkiss   \n",
       "4   4  Iranian woman jailed for fictional unpublished...      Howard Portnoy   \n",
       "\n",
       "                                                text  label  \\\n",
       "0  House Dem Aide: We Didn’t Even See Comey’s Let...      1   \n",
       "1  Ever get the feeling your life circles the rou...      0   \n",
       "2  Why the Truth Might Get You Fired October 29, ...      1   \n",
       "3  Videos 15 Civilians Killed In Single US Airstr...      1   \n",
       "4  Print \\nAn Iranian woman has been sentenced to...      1   \n",
       "\n",
       "                                             content  \n",
       "0  House Dem Aide: We Didn’t Even See Comey’s Let...  \n",
       "1  FLYNN: Hillary Clinton, Big Woman on Campus - ...  \n",
       "2  Why the Truth Might Get You Fired Consortiumne...  \n",
       "3  15 Civilians Killed In Single US Airstrike Hav...  \n",
       "4  Iranian woman jailed for fictional unpublished...  "
      ]
     },
     "execution_count": 19,
     "metadata": {},
     "output_type": "execute_result"
    }
   ],
   "source": [
    "df.head() # Show first few lines"
   ]
  },
  {
   "cell_type": "code",
   "execution_count": 20,
   "id": "6ec38260-9b29-4b8c-9c67-4e6873bef5d1",
   "metadata": {},
   "outputs": [],
   "source": [
    "# Note:\n",
    "# For traditional machine learning models (like SVM, Logistic Regression),\n",
    "# we typically separate the dataframe into:\n",
    "# X = df.drop(columns='label', axis=1)  # Features as multiple columns (e.g., title, text, author)\n",
    "# Y = df['label']  # Target variable\n",
    "\n",
    "# However, for transformer-based models like BERT,\n",
    "# we do NOT need to keep multiple separate feature columns.\n",
    "# BERT expects raw text inputs that will be tokenized later.\n",
    "\n",
    "# In our preprocessing, we have already combined relevant fields into a single 'content' column:\n",
    "# df['content'] = df['title'] + ' ' + df['author']\n",
    "\n",
    "# Therefore, for BERT, we directly use: transfer into numpy, list of strings\n",
    "X = df['content'].values  # Input as plain text\n",
    "Y = df['label'].values    # Labels as numerical values\n",
    "\n",
    "# This simplifies the input and fits the expected format for BERT tokenization."
   ]
  },
  {
   "cell_type": "code",
   "execution_count": 21,
   "id": "a9febb5e-fd45-4f6b-88a3-2fd6fbf26466",
   "metadata": {},
   "outputs": [
    {
     "name": "stdout",
     "output_type": "stream",
     "text": [
      "['House Dem Aide: We Didn’t Even See Comey’s Letter Until Jason Chaffetz Tweeted It Darrell Lucus'\n",
      " 'FLYNN: Hillary Clinton, Big Woman on Campus - Breitbart Daniel J. Flynn'\n",
      " 'Why the Truth Might Get You Fired Consortiumnews.com'\n",
      " '15 Civilians Killed In Single US Airstrike Have Been Identified Jessica Purkiss'\n",
      " 'Iranian woman jailed for fictional unpublished story about woman stoned to death for adultery Howard Portnoy']\n"
     ]
    }
   ],
   "source": [
    "print(X[:5]) # Show first few lines"
   ]
  },
  {
   "cell_type": "code",
   "execution_count": 22,
   "id": "a484e32b-ddd0-41ed-bc48-c3d7b87634b2",
   "metadata": {},
   "outputs": [
    {
     "name": "stdout",
     "output_type": "stream",
     "text": [
      "[1 0 1 1 1]\n"
     ]
    }
   ],
   "source": [
    "print(Y[:5]) # Show first few lines"
   ]
  },
  {
   "cell_type": "markdown",
   "id": "3dcc3d66-20ad-4183-9eba-daa56ae7e392",
   "metadata": {},
   "source": [
    "# Splitting training data & test data"
   ]
  },
  {
   "cell_type": "code",
   "execution_count": 24,
   "id": "054004de-5d1e-4ed3-a59f-a65ee8680a5b",
   "metadata": {},
   "outputs": [],
   "source": [
    "# Splitting the dataset into training data and test data\n",
    "X_train, X_test, Y_train, Y_test = train_test_split(X, Y, test_size=0.2, random_state=50)"
   ]
  },
  {
   "cell_type": "code",
   "execution_count": 25,
   "id": "120daf6b-0f8b-4bfb-a754-ede24676a061",
   "metadata": {},
   "outputs": [
    {
     "name": "stdout",
     "output_type": "stream",
     "text": [
      "The size of X_train and Y_train is: 16640, 16640\n",
      "The size of X_test and Y_test is: 4160, 4160\n"
     ]
    }
   ],
   "source": [
    "print(f\"The size of X_train and Y_train is: {X_train.shape[0]}, {Y_train.shape[0]}\")\n",
    "print(f\"The size of X_test and Y_test is: {X_test.shape[0]}, {Y_test.shape[0]}\")"
   ]
  },
  {
   "cell_type": "markdown",
   "id": "135850f0-e2f4-421d-a86b-e1a6576c2a15",
   "metadata": {},
   "source": [
    "# Tokenization with BERT"
   ]
  },
  {
   "cell_type": "code",
   "execution_count": 27,
   "id": "8dce930b-bf32-411a-b89b-bda5a3571f0d",
   "metadata": {},
   "outputs": [],
   "source": [
    "tokenizer = BertTokenizer.from_pretrained('bert-base-uncased')\n",
    "\n",
    "# Tokenize training and testing data\n",
    "train_encodings = tokenizer(list(X_train), padding=True, truncation=True, max_length=512, return_tensors='pt')\n",
    "test_encodings = tokenizer(list(X_test), padding=True, truncation=True, max_length=512, return_tensors='pt')\n"
   ]
  },
  {
   "cell_type": "markdown",
   "id": "cf5fad15-01c1-4caf-bf1b-91262f875f01",
   "metadata": {},
   "source": [
    "# Dataset Preparation"
   ]
  },
  {
   "cell_type": "code",
   "execution_count": 49,
   "id": "15fbac66-291d-4df4-a90f-df3d225ff9db",
   "metadata": {},
   "outputs": [],
   "source": [
    "class NewsDataset(Dataset):\n",
    "    \"\"\"\n",
    "    Custom PyTorch Dataset for handling encoded news data.\n",
    "\n",
    "    Args:\n",
    "        encodings (dict): Tokenized input data from a tokenizer (e.g., BERT tokenizer).\n",
    "        labels (list or tensor): Corresponding labels for each input (e.g., 0 for REAL, 1 for FAKE).\n",
    "\n",
    "    Attributes:\n",
    "        encodings (dict): Stores tokenized input features.\n",
    "        labels (list or tensor): Stores corresponding labels.\n",
    "    \n",
    "    Methods:\n",
    "        __len__(): Returns the number of samples.\n",
    "        __getitem__(idx): Returns a dictionary containing one sample's features and label.\n",
    "    \"\"\"\n",
    "    def __init__(self, encodings, labels):\n",
    "        self.encodings = encodings\n",
    "        self.labels = labels\n",
    "\n",
    "    def __len__(self):\n",
    "        return len(self.labels)\n",
    "\n",
    "    def __getitem__(self, idx):\n",
    "        item = {key: val[idx] for key, val in self.encodings.items()}\n",
    "        item['labels'] = torch.tensor(self.labels[idx])\n",
    "        return item\n",
    "\n",
    "# Dataset Instantiation\n",
    "train_dataset = NewsDataset(train_encodings, Y_train)\n",
    "test_dataset = NewsDataset(test_encodings, Y_test)\n"
   ]
  },
  {
   "cell_type": "code",
   "execution_count": 51,
   "id": "663e2e3b-fd4c-41fc-b3bf-5b11eb0c3cbd",
   "metadata": {},
   "outputs": [
    {
     "name": "stdout",
     "output_type": "stream",
     "text": [
      "NewsDataset unit tests passed.\n"
     ]
    }
   ],
   "source": [
    "# Unit Testing for NewsDataset\n",
    "\n",
    "# Test: Dataset length matches labels\n",
    "assert len(train_dataset) == len(Y_train), \"Train dataset length mismatch.\"\n",
    "assert len(test_dataset) == len(Y_test), \"Test dataset length mismatch.\"\n",
    "\n",
    "# Test: Item retrieval structure\n",
    "sample_item = train_dataset[0]\n",
    "assert isinstance(sample_item, dict), \"Returned item should be a dictionary.\"\n",
    "assert 'input_ids' in sample_item, \"'input_ids' missing in dataset item.\"\n",
    "assert 'attention_mask' in sample_item, \"'attention_mask' missing in dataset item.\"\n",
    "assert 'labels' in sample_item, \"'labels' missing in dataset item.\"\n",
    "assert isinstance(sample_item['labels'], torch.Tensor), \"Label should be a torch Tensor.\"\n",
    "\n",
    "print(\"NewsDataset unit tests passed.\")\n"
   ]
  },
  {
   "cell_type": "markdown",
   "id": "03ab00b9-c4e0-4469-874c-5aded352dba6",
   "metadata": {},
   "source": [
    "# Model Initialization"
   ]
  },
  {
   "cell_type": "code",
   "execution_count": 31,
   "id": "1ad75d13-9694-47c4-b831-e6b3d5cddfa9",
   "metadata": {},
   "outputs": [
    {
     "name": "stderr",
     "output_type": "stream",
     "text": [
      "Some weights of BertForSequenceClassification were not initialized from the model checkpoint at bert-base-uncased and are newly initialized: ['classifier.bias', 'classifier.weight']\n",
      "You should probably TRAIN this model on a down-stream task to be able to use it for predictions and inference.\n"
     ]
    }
   ],
   "source": [
    "# Initialize BERT model\n",
    "model = BertForSequenceClassification.from_pretrained('bert-base-uncased', num_labels=2)\n",
    "model.to(device)\n",
    "\n",
    "# Define optimizer\n",
    "optimizer = AdamW(model.parameters(), lr=5e-5)"
   ]
  },
  {
   "cell_type": "markdown",
   "id": "95bbd205-6e05-41e5-ba19-86144dfb31d5",
   "metadata": {},
   "source": [
    "# Training Function"
   ]
  },
  {
   "cell_type": "code",
   "execution_count": 2,
   "id": "1791f5e0-f045-47f9-b311-5fbd81da4abe",
   "metadata": {},
   "outputs": [],
   "source": [
    "def train(model, dataset):\n",
    "    \"\"\"\n",
    "    Trains the given model on the provided dataset.\n",
    "\n",
    "    Args:\n",
    "        model (torch.nn.Module): The BERT-based classification model.\n",
    "        dataset (torch.utils.data.Dataset): Dataset containing tokenized inputs and labels.\n",
    "\n",
    "    Returns:\n",
    "        float: The average training loss over all batches.\n",
    "    \"\"\"\n",
    "    model.train()\n",
    "    loader = DataLoader(dataset, batch_size=16, shuffle=True)\n",
    "    total_loss = 0\n",
    "    for batch in tqdm(loader, desc=\"Training\"):\n",
    "        batch = {k: v.to(device) for k, v in batch.items()}\n",
    "        outputs = model(**batch)\n",
    "        loss = outputs.loss\n",
    "        total_loss += loss.item()\n",
    "        optimizer.zero_grad()\n",
    "        loss.backward()\n",
    "        optimizer.step()\n",
    "    return total_loss / len(loader)\n"
   ]
  },
  {
   "cell_type": "code",
   "execution_count": 53,
   "id": "9c5849a7-48c8-49ab-9262-1e4117830c4f",
   "metadata": {},
   "outputs": [
    {
     "name": "stderr",
     "output_type": "stream",
     "text": [
      "Training: 100%|██████████| 1040/1040 [33:03<00:00,  1.91s/it]"
     ]
    },
    {
     "name": "stdout",
     "output_type": "stream",
     "text": [
      "Unit test passed: train() returned average loss = 0.0685\n"
     ]
    },
    {
     "name": "stderr",
     "output_type": "stream",
     "text": [
      "\n"
     ]
    }
   ],
   "source": [
    "# Unit Testing for train()\n",
    "\n",
    "# Test: Ensure train() returns a float and model parameters are updated\n",
    "initial_loss = train(model, train_dataset)\n",
    "assert isinstance(initial_loss, float), \"train() should return a float value for average loss.\"\n",
    "assert initial_loss > 0, \"Loss should be greater than 0 during training.\"\n",
    "\n",
    "print(f\"Unit test passed: train() returned average loss = {initial_loss:.4f}\")\n"
   ]
  },
  {
   "cell_type": "markdown",
   "id": "e5f63a5a-0a94-46f6-9fb5-817c145571df",
   "metadata": {},
   "source": [
    "# Evaluation Function"
   ]
  },
  {
   "cell_type": "code",
   "execution_count": 41,
   "id": "a7a5e0b1-a95a-4216-99f0-b323912b8d3e",
   "metadata": {},
   "outputs": [],
   "source": [
    "def evaluate(model, dataset):\n",
    "    \"\"\"\n",
    "    Evaluate model on the given dataset.\n",
    "    Prints precision, recall, f1-score, and accuracy.\n",
    "    \n",
    "    Args:\n",
    "        model: Trained BERT model\n",
    "        dataset: dataset instance\n",
    "\n",
    "    Returns:\n",
    "        accuracy: float - classification accuracy\n",
    "        all_preds: list - Predicted labels.\n",
    "        all_labels: list - True labels.\n",
    "    \"\"\"\n",
    "    model.eval()\n",
    "    loader = DataLoader(dataset, batch_size=16)\n",
    "    \n",
    "    all_preds = []\n",
    "    all_labels = []\n",
    "    \n",
    "    with torch.no_grad():\n",
    "        for batch in loader:\n",
    "            batch = {k: v.to(device) for k, v in batch.items()}\n",
    "            outputs = model(**batch)\n",
    "            preds = torch.argmax(outputs.logits, dim=-1)\n",
    "            all_preds.extend(preds.cpu().numpy())\n",
    "            all_labels.extend(batch['labels'].cpu().numpy())\n",
    "    \n",
    "    # Print detailed classification report\n",
    "    print(\"\\nClassification Report:\")\n",
    "    print(classification_report(all_labels, all_preds, target_names=[\"REAL\", \"FAKE\"]))\n",
    "\n",
    "    # Also return accuracy for plotting or logging\n",
    "    accuracy = np.mean(np.array(all_preds) == np.array(all_labels))\n",
    "    return accuracy, all_preds, all_labels"
   ]
  },
  {
   "cell_type": "code",
   "execution_count": 55,
   "id": "f032db4f-ea6f-431f-aee6-f8e944b8049f",
   "metadata": {},
   "outputs": [
    {
     "name": "stdout",
     "output_type": "stream",
     "text": [
      "\n",
      "Classification Report:\n",
      "              precision    recall  f1-score   support\n",
      "\n",
      "        REAL       0.81      1.00      0.90      2085\n",
      "        FAKE       1.00      0.77      0.87      2075\n",
      "\n",
      "    accuracy                           0.88      4160\n",
      "   macro avg       0.90      0.88      0.88      4160\n",
      "weighted avg       0.90      0.88      0.88      4160\n",
      "\n",
      "Unit test passed: evaluate() returned accuracy = 0.8827 for 4160 samples.\n"
     ]
    }
   ],
   "source": [
    "# Unit Testing for evaluate()\n",
    "\n",
    "# Evaluate on the test dataset\n",
    "accuracy, all_preds, all_labels = evaluate(model, test_dataset)\n",
    "\n",
    "# Check return types\n",
    "assert isinstance(accuracy, float), \"evaluate() should return accuracy as a float.\"\n",
    "assert isinstance(all_preds, list), \"all_preds should be a list.\"\n",
    "assert isinstance(all_labels, list), \"all_labels should be a list.\"\n",
    "\n",
    "# Check data consistency\n",
    "assert len(all_preds) == len(all_labels), \"Predictions and labels must have the same length.\"\n",
    "assert all(label in [0, 1] for label in all_preds), \"Predicted labels must be 0 or 1.\"\n",
    "assert all(label in [0, 1] for label in all_labels), \"True labels must be 0 or 1.\"\n",
    "\n",
    "print(f\"Unit test passed: evaluate() returned accuracy = {accuracy:.4f} for {len(all_preds)} samples.\")\n"
   ]
  },
  {
   "cell_type": "markdown",
   "id": "7ae2adf5-d843-4368-8873-520027853eb0",
   "metadata": {},
   "source": [
    "# Training Loop with Visualization"
   ]
  },
  {
   "cell_type": "code",
   "execution_count": 37,
   "id": "5be10ab7-86c1-40c7-a1c7-a93e7ec1e7b0",
   "metadata": {},
   "outputs": [
    {
     "name": "stdout",
     "output_type": "stream",
     "text": [
      "Epoch 1/6\n"
     ]
    },
    {
     "name": "stderr",
     "output_type": "stream",
     "text": [
      "Training: 100%|██████████| 1040/1040 [54:15<00:00,  3.13s/it]   \n"
     ]
    },
    {
     "name": "stdout",
     "output_type": "stream",
     "text": [
      "\n",
      "Classification Report:\n",
      "              precision    recall  f1-score   support\n",
      "\n",
      "        REAL       1.00      1.00      1.00      2085\n",
      "        FAKE       1.00      1.00      1.00      2075\n",
      "\n",
      "    accuracy                           1.00      4160\n",
      "   macro avg       1.00      1.00      1.00      4160\n",
      "weighted avg       1.00      1.00      1.00      4160\n",
      "\n",
      "Average training loss: 0.0698\n",
      "Test accuracy: 0.9969\n",
      "Epoch 2/6\n"
     ]
    },
    {
     "name": "stderr",
     "output_type": "stream",
     "text": [
      "Training: 100%|██████████| 1040/1040 [28:43<00:00,  1.66s/it]\n"
     ]
    },
    {
     "name": "stdout",
     "output_type": "stream",
     "text": [
      "\n",
      "Classification Report:\n",
      "              precision    recall  f1-score   support\n",
      "\n",
      "        REAL       0.99      0.99      0.99      2085\n",
      "        FAKE       0.99      0.99      0.99      2075\n",
      "\n",
      "    accuracy                           0.99      4160\n",
      "   macro avg       0.99      0.99      0.99      4160\n",
      "weighted avg       0.99      0.99      0.99      4160\n",
      "\n",
      "Average training loss: 0.0215\n",
      "Test accuracy: 0.9940\n",
      "Epoch 3/6\n"
     ]
    },
    {
     "name": "stderr",
     "output_type": "stream",
     "text": [
      "Training: 100%|██████████| 1040/1040 [29:18<00:00,  1.69s/it]\n"
     ]
    },
    {
     "name": "stdout",
     "output_type": "stream",
     "text": [
      "\n",
      "Classification Report:\n",
      "              precision    recall  f1-score   support\n",
      "\n",
      "        REAL       1.00      1.00      1.00      2085\n",
      "        FAKE       1.00      1.00      1.00      2075\n",
      "\n",
      "    accuracy                           1.00      4160\n",
      "   macro avg       1.00      1.00      1.00      4160\n",
      "weighted avg       1.00      1.00      1.00      4160\n",
      "\n",
      "Average training loss: 0.0157\n",
      "Test accuracy: 0.9974\n",
      "Epoch 4/6\n"
     ]
    },
    {
     "name": "stderr",
     "output_type": "stream",
     "text": [
      "Training: 100%|██████████| 1040/1040 [39:13<00:00,  2.26s/it]   \n"
     ]
    },
    {
     "name": "stdout",
     "output_type": "stream",
     "text": [
      "\n",
      "Classification Report:\n",
      "              precision    recall  f1-score   support\n",
      "\n",
      "        REAL       1.00      0.99      0.99      2085\n",
      "        FAKE       0.99      1.00      0.99      2075\n",
      "\n",
      "    accuracy                           0.99      4160\n",
      "   macro avg       0.99      0.99      0.99      4160\n",
      "weighted avg       0.99      0.99      0.99      4160\n",
      "\n",
      "Average training loss: 0.0144\n",
      "Test accuracy: 0.9923\n",
      "Epoch 5/6\n"
     ]
    },
    {
     "name": "stderr",
     "output_type": "stream",
     "text": [
      "Training: 100%|██████████| 1040/1040 [28:57<00:00,  1.67s/it]\n"
     ]
    },
    {
     "name": "stdout",
     "output_type": "stream",
     "text": [
      "\n",
      "Classification Report:\n",
      "              precision    recall  f1-score   support\n",
      "\n",
      "        REAL       1.00      1.00      1.00      2085\n",
      "        FAKE       1.00      1.00      1.00      2075\n",
      "\n",
      "    accuracy                           1.00      4160\n",
      "   macro avg       1.00      1.00      1.00      4160\n",
      "weighted avg       1.00      1.00      1.00      4160\n",
      "\n",
      "Average training loss: 0.0130\n",
      "Test accuracy: 0.9971\n",
      "Epoch 6/6\n"
     ]
    },
    {
     "name": "stderr",
     "output_type": "stream",
     "text": [
      "Training: 100%|██████████| 1040/1040 [28:35<00:00,  1.65s/it]\n"
     ]
    },
    {
     "name": "stdout",
     "output_type": "stream",
     "text": [
      "\n",
      "Classification Report:\n",
      "              precision    recall  f1-score   support\n",
      "\n",
      "        REAL       0.96      1.00      0.98      2085\n",
      "        FAKE       1.00      0.96      0.98      2075\n",
      "\n",
      "    accuracy                           0.98      4160\n",
      "   macro avg       0.98      0.98      0.98      4160\n",
      "weighted avg       0.98      0.98      0.98      4160\n",
      "\n",
      "Average training loss: 0.0088\n",
      "Test accuracy: 0.9786\n"
     ]
    }
   ],
   "source": [
    "epochs = 6\n",
    "train_losses = []\n",
    "test_accuracies = []\n",
    "\n",
    "for epoch in range(epochs):\n",
    "    print(f\"Epoch {epoch + 1}/{epochs}\")\n",
    "    avg_loss = train(model, train_dataset)\n",
    "    \n",
    "    accuracy = evaluate(model, test_dataset)\n",
    "    \n",
    "    train_losses.append(avg_loss)\n",
    "    test_accuracies.append(accuracy)\n",
    "    print(f\"Average training loss: {avg_loss:.4f}\")\n",
    "    print(f\"Test accuracy: {accuracy:.4f}\")\n"
   ]
  },
  {
   "cell_type": "code",
   "execution_count": 38,
   "id": "c4eb73ef-faae-446d-a817-3764984f9015",
   "metadata": {},
   "outputs": [
    {
     "data": {
      "image/png": "[encoded data removed]",
      "text/plain": [
       "<Figure size 1200x500 with 2 Axes>"
      ]
     },
     "metadata": {},
     "output_type": "display_data"
    }
   ],
   "source": [
    "# Plot training loss and test accuracy\n",
    "epochs_range = list(range(1, len(train_losses) + 1))  # [1, 2, 3] if 3 epochs\n",
    "\n",
    "plt.figure(figsize=(12, 5))\n",
    "\n",
    "plt.subplot(1, 2, 1)\n",
    "plt.plot(epochs_range, train_losses, marker='o')\n",
    "plt.title('Training Loss')\n",
    "plt.xlabel('Epoch')\n",
    "plt.ylabel('Loss')\n",
    "plt.xticks(epochs_range)  # set exact x-ticks\n",
    "\n",
    "plt.subplot(1, 2, 2)\n",
    "plt.plot(epochs_range, test_accuracies, marker='o', color='green')\n",
    "plt.title('Test Accuracy')\n",
    "plt.xlabel('Epoch')\n",
    "plt.ylabel('Accuracy')\n",
    "plt.xticks(epochs_range)  # set exact x-ticks\n",
    "\n",
    "plt.tight_layout()\n",
    "plt.show()"
   ]
  },
  {
   "cell_type": "code",
   "execution_count": 43,
   "id": "b60f1236-f047-40a8-be6c-46d1e57c835c",
   "metadata": {},
   "outputs": [
    {
     "name": "stdout",
     "output_type": "stream",
     "text": [
      "\n",
      "Classification Report:\n",
      "              precision    recall  f1-score   support\n",
      "\n",
      "        REAL       0.96      1.00      0.98      2085\n",
      "        FAKE       1.00      0.96      0.98      2075\n",
      "\n",
      "    accuracy                           0.98      4160\n",
      "   macro avg       0.98      0.98      0.98      4160\n",
      "weighted avg       0.98      0.98      0.98      4160\n",
      "\n",
      "Test accuracy: 0.9786\n"
     ]
    }
   ],
   "source": [
    "accuracy, all_preds, all_labels = evaluate(model, test_dataset)\n",
    "print(f\"Test accuracy: {accuracy:.4f}\")"
   ]
  },
  {
   "cell_type": "code",
   "execution_count": 44,
   "id": "da037e09-ba31-4bad-aa89-894a08175cdd",
   "metadata": {},
   "outputs": [
    {
     "data": {
      "image/png": "[encoded data removed]",
      "text/plain": [
       "<Figure size 640x480 with 2 Axes>"
      ]
     },
     "metadata": {},
     "output_type": "display_data"
    },
    {
     "name": "stdout",
     "output_type": "stream",
     "text": [
      "Misclassified Samples:\n",
      "Predicted: 0, Actual: 1\n",
      "Text: Wakame Seaweed Salad May Lower Blood Pressure Michael Greger M.D. FACLM\n",
      "------\n",
      "Predicted: 0, Actual: 1\n",
      "Text: Comment on Selected not Elected — Rothschilds Hold $100,000 a Plate Dinner Fundraiser for Guess Who by Bruce Baker Bruce Baker\n",
      "------\n",
      "Predicted: 0, Actual: 1\n",
      "Text: With Bridgegate Convictions Comes Calls To Impeach Chris Christie Dan Wright\n",
      "------\n",
      "Predicted: 0, Actual: 1\n",
      "Text: 45 Weird Bans on Women in Iran Dr. Majid Rafizadeh\n",
      "------\n",
      "Predicted: 0, Actual: 1\n",
      "Text: Daughter of Eric Garner Slams Clinton Camp Over Plans to ‘Use’ Her Father’s Death Cassandra Fairbanks\n",
      "------\n",
      "Predicted: 0, Actual: 1\n",
      "Text: Comment on Philippines Voids Building Permit Of Trump Tower In Makati City by Shirley Barnett Shirley Barnett\n",
      "------\n",
      "Predicted: 0, Actual: 1\n",
      "Text: Can You Get a Stunning and Healthy Smile with Coconut Oil? Jenn Ryan\n",
      "------\n",
      "Predicted: 0, Actual: 1\n",
      "Text: A Trump Supporter Just Held Six Children At Gunpoint For Dumbest Reason Ever James DeVinne\n",
      "------\n",
      "Predicted: 0, Actual: 1\n",
      "Text: Interview 1230 – New World Next Week with James Evan Pilato Corbett\n",
      "------\n",
      "Predicted: 0, Actual: 1\n",
      "Text: Top 20 Home Remedies For Stuffy Nose Mandy Wong\n",
      "------\n",
      "Predicted: 1, Actual: 0\n",
      "Text: Can Trump Get to 3 Percent Growth Despite Predictions from the Congressional Budget Office? Peter Morici\n",
      "------\n",
      "Predicted: 0, Actual: 1\n",
      "Text: Trump and Roger Stone Were Just Ordered To Court For Voter Intimidation Tactics Grant Stern\n",
      "------\n",
      "Predicted: 0, Actual: 1\n",
      "Text: Israel’s Lieberman threatens Gazans with genocide Stephen Lendman\n",
      "------\n",
      "Predicted: 0, Actual: 1\n",
      "Text: Average Moscow entrepreneur 'survives' only 5.7 years The Moscow Times\n",
      "------\n",
      "Predicted: 0, Actual: 1\n",
      "Text: 5 Reasons to Try Acupuncture for Baby Eczema Rosemary Hansen\n",
      "------\n",
      "Predicted: 0, Actual: 1\n",
      "Text: Michael Moore Wants A Spot in Hillary’s Cabinet David Macaray\n",
      "------\n",
      "Predicted: 0, Actual: 1\n",
      "Text: Donald Trump Likely to End Aid for Rebels Fighting Syrian Government    : Information DAVID E. SANGER\n",
      "------\n",
      "Predicted: 1, Actual: 0\n",
      "Text: Disney Boss Says No Political Bias at ABC News and ESPN, Complaints ’Completely Exaggerated’ Brian McNicoll\n",
      "------\n",
      "Predicted: 0, Actual: 1\n",
      "Text: Donald Trump Is The Candidate For Americans, Not Special Interests Luke Stranahan\n",
      "------\n",
      "Predicted: 0, Actual: 1\n",
      "Text: Garlic: 12 Serious Health Benefits | Underground Health Christopher David\n",
      "------\n",
      "Predicted: 0, Actual: 1\n",
      "Text: War on cash goes into full effect – Citibank stops accepting cash at multiple branches Jack Burns\n",
      "------\n",
      "Predicted: 0, Actual: 1\n",
      "Text: Trump’s Ex-Manager: He Didn’t Even Know What A Gold Star Family Is James DeVinne\n",
      "------\n",
      "Predicted: 0, Actual: 1\n",
      "Text: Tiffany And Barron Mad At President-Elect Trump \n",
      "------\n",
      "Predicted: 0, Actual: 1\n",
      "Text: Canadian Immigration Website Crashes As Millions Hear of Trump Victory J M Landers\n",
      "------\n",
      "Predicted: 0, Actual: 1\n",
      "Text: Congress: Attorney General Lynch ‘Pleads Fifth’ on Secret Iran ‘Ransom’ Payments \n",
      "------\n",
      "Predicted: 0, Actual: 1\n",
      "Text: Fox Biz Reporter Can't Help But Bash Clinton’s Rally After Covering Trump’s Packed Event Day Before Kayla Brandon\n",
      "------\n",
      "Predicted: 0, Actual: 1\n",
      "Text: Man decides first 10 minutes of new Adam Curtis film should be enough to bluff it \n",
      "------\n",
      "Predicted: 0, Actual: 1\n",
      "Text: Shall We Save Civilization, or Not? - American Herald Tribune Stephen Yearwood\n",
      "------\n",
      "Predicted: 0, Actual: 1\n",
      "Text: Jaish Al-Fatah Leader Admits Receiving Financial, Military Aid from Saudi Arabia Paul Craig Roberts\n",
      "------\n",
      "Predicted: 0, Actual: 1\n",
      "Text: OBSTRUCTION OF JUSTICE: The Clintons’ Long History Of Losing Documents Aaron Kesel\n",
      "------\n",
      "Predicted: 0, Actual: 1\n",
      "Text: Trump Catches What Sick Reporter Snuck In Interview, Has Priceless Response Amanda Shea\n",
      "------\n",
      "Predicted: 0, Actual: 1\n",
      "Text: Obama’s Brother Malik Supports Trump AND Wants Obama To Pardon Julian Assange Aaron Kesel\n",
      "------\n",
      "Predicted: 0, Actual: 1\n",
      "Text: Black Agenda Radio for Week of No 14, 2016 Nellie Bailey and Glen Ford\n",
      "------\n",
      "Predicted: 0, Actual: 1\n",
      "Text: BREAKING : AP (Finally) Calls Arizona For Trump! – TruthFeed Amy Moreno\n",
      "------\n",
      "Predicted: 0, Actual: 1\n",
      "Text: The Comey Confrontation: In Our New Third-World America, Corruption Is A Feature, Not A Bug James Kirkpatrick\n",
      "------\n",
      "Predicted: 0, Actual: 1\n",
      "Text: Investigators Horrified At What Was Left Behind In Hillary’s Hotel Room Amanda Shea\n",
      "------\n",
      "Predicted: 0, Actual: 1\n",
      "Text: Hillary Clinton in HUGE Trouble After America Noticed SICK Thing Hidden in this Picture... * LIBERTY WRITERS NEWS Danny Gold\n",
      "------\n",
      "Predicted: 0, Actual: 1\n",
      "Text: Death penalty sought in shooting deaths of 2 Palm Springs cops ambushed by gang member Howard Portnoy\n",
      "------\n",
      "Predicted: 0, Actual: 1\n",
      "Text: ELECTION DAY QUESTION: Do You Want To Glow In The Dark? Karl Denninger\n",
      "------\n",
      "Predicted: 0, Actual: 1\n",
      "Text: BREAKING: Donald Trump Makes MAJOR Clinton Indictment Announcement (DETAILS) Carissa House-Dunphy\n",
      "------\n",
      "Predicted: 0, Actual: 1\n",
      "Text: The US Military lied to thousands of soldiers — and now Veterans are paying for it Alice Salles\n",
      "------\n",
      "Predicted: 0, Actual: 1\n",
      "Text: As Flint Suffers, Nestlé Plans Dramatic Expansion of Water Privatization in Michigan Lauren McCauley | Common Dreams\n",
      "------\n",
      "Predicted: 0, Actual: 1\n",
      "Text: Demo Derby in Venezuela: The Left’s New Freewheeling Politics Chris Gilbert\n",
      "------\n",
      "Predicted: 0, Actual: 1\n",
      "Text: One Mad, Lyin’ Leftist Christopher Manion\n",
      "------\n",
      "Predicted: 0, Actual: 1\n",
      "Text: Arctic Sea Ice Extent Again At Record Low For Time Of Year Doug Diamond\n",
      "------\n",
      "Predicted: 0, Actual: 1\n",
      "Text: Media Self-Destruct over Trump Jared Taylor\n",
      "------\n",
      "Predicted: 0, Actual: 1\n",
      "Text: They Said What?!: Find Out What Magnus Carlsen, Kate Hudson, And Tom Hanks Have To Say \n",
      "------\n",
      "Predicted: 0, Actual: 1\n",
      "Text: U.S. Behind Huge Weapons Shipments To Saudi Arabia Prior to Yemen Funeral Attack Paul Gottinger and Ken Klippenstein\n",
      "------\n",
      "Predicted: 0, Actual: 1\n",
      "Text: Comment on India Moves to Severely Restrict Use of Cash, Forcing Much of Economy Into Barter by Bugs Bunny Bugs Bunny\n",
      "------\n",
      "Predicted: 0, Actual: 1\n",
      "Text: Trump won because Democratic Party failed working people, says Sanders Lauren McCauley\n",
      "------\n",
      "Predicted: 0, Actual: 1\n",
      "Text: Egypt court upholds life sentence for Brotherhood leader Badie \n",
      "------\n",
      "Predicted: 0, Actual: 1\n",
      "Text: Let Your Child Be Bored! Amanda Monteiro\n",
      "------\n",
      "Predicted: 0, Actual: 1\n",
      "Text: Is President Trump Really Going To Revalue Gold To This Jaw-Dropping Price? King World News\n",
      "------\n",
      "Predicted: 0, Actual: 1\n",
      "Text: Larry Summers’ Worst Nightmare admin\n",
      "------\n",
      "Predicted: 0, Actual: 1\n",
      "Text: Carrie Underwood Says No Politics During CMAs, Brad Paisley Decides to Pull Fast One on Her Beforehand Nicole Higman\n",
      "------\n",
      "Predicted: 0, Actual: 1\n",
      "Text: They Said What?!: Find Out What Miles Teller, Kelly Slater, And Meghan Markle Have To Say \n",
      "------\n",
      "Predicted: 0, Actual: 1\n",
      "Text: Snapchat To Raise Up To $4 Billion In IPO, Valuing Company As Much As $40 Billion Tyler Durden\n",
      "------\n",
      "Predicted: 0, Actual: 1\n",
      "Text: The Bolton Threat to Trump’s Middle East Policy Gareth Porter\n",
      "------\n",
      "Predicted: 0, Actual: 1\n",
      "Text: Kejriwal in talks with Dr Manmohan Singh to become AAP’s Punjab CM candidate C S Krishna\n",
      "------\n",
      "Predicted: 0, Actual: 1\n",
      "Text: New Biometric ID System Being Implemented in US Airports The Daily Sheeple\n",
      "------\n",
      "Predicted: 0, Actual: 1\n",
      "Text: Joe Sobran’s ‘Hustler: the Clinton Legacy’ Rev. Peter M. J. Stravinskas, Ph.D., S.T.D.\n",
      "------\n",
      "Predicted: 0, Actual: 1\n",
      "Text: Scandalous: Nobody tell Jay Z that Donald Trump used the word ‘ghettos’ in a campaign speech Brett T.\n",
      "------\n",
      "Predicted: 0, Actual: 1\n",
      "Text: United Nations Finally Acknowledges US-Backed Rebels in Syria are Murdering Civilians Baran Hines\n",
      "------\n",
      "Predicted: 0, Actual: 1\n",
      "Text: Guilt By Association Smear In NYT Gets Virginia Dare Wrong AGAIN James Fulford\n",
      "------\n",
      "Predicted: 0, Actual: 1\n",
      "Text: Support for Clinton-Style AWB at All-Time Low in U.S. K. Campbell\n",
      "------\n",
      "Predicted: 0, Actual: 1\n",
      "Text: Worker channels Liam Neeson after their lunch is “Taken” Poke Staff\n",
      "------\n",
      "Predicted: 0, Actual: 1\n",
      "Text: Animal Protein, Pregnancy, and Childhood Obesity Michael Greger M.D. FACLM\n",
      "------\n",
      "Predicted: 0, Actual: 1\n",
      "Text: Trump's Hollywood Star Vandal Outs Himself in Shameless New Video, Taunts Police Seeking Him Out Victoria Taft\n",
      "------\n",
      "Predicted: 0, Actual: 1\n",
      "Text: It’s Official: California Becomes First U.S. State To Ban Plastic Bags Heather Callaghan\n",
      "------\n",
      "Predicted: 0, Actual: 1\n",
      "Text: Albert Pike and the European Migrant Crisis Rixon Stewart\n",
      "------\n",
      "Predicted: 0, Actual: 1\n",
      "Text: 7 Times That Bill Clinton Was Accused Of Sexually Assaulting Women Matthew Sison\n",
      "------\n",
      "Predicted: 0, Actual: 1\n",
      "Text: Jason Frierson Is a Pro-Life Assembly District 8 Candidate Cathy Milne\n",
      "------\n",
      "Predicted: 0, Actual: 1\n",
      "Text: Surveillance \"Reforms\" Allow NSA Greater Access Than Ever to Phone Data C. Mitchell Shaw\n",
      "------\n",
      "Predicted: 0, Actual: 1\n",
      "Text: AP Just Confirmed Melania Trump Worked Illegally As An Immigrant Grant Stern\n",
      "------\n",
      "Predicted: 0, Actual: 1\n",
      "Text: Robin Roberts Says While She Was Dying from Cancer a ‘Familiar Voice’ Came From Her Nurse and Brought Her Back Prudence Hill\n",
      "------\n",
      "Predicted: 0, Actual: 1\n",
      "Text: VIDEO: Watch Newt Gingrich UNLOAD on Megyn Kelly Over Trump Robert Gehl\n",
      "------\n",
      "Predicted: 0, Actual: 1\n",
      "Text: Comment on An ex-police Sergent tells how and why you should fight ALL speeding fines by Sinead Sinead\n",
      "------\n",
      "Predicted: 0, Actual: 1\n",
      "Text: Iraq’s Skies Darken as Islamic State Torches Oil \n",
      "------\n",
      "Predicted: 0, Actual: 1\n",
      "Text: Comment on Sweden Bans Christmas Street Lights; To Avoid Offending Muslim Migrants? by jaded jaded\n",
      "------\n",
      "Predicted: 0, Actual: 1\n",
      "Text: As fixes for Obamacare begin, meet the hopelessly confusing ‘all-payer model’ LU Staff\n",
      "------\n",
      "Predicted: 0, Actual: 1\n",
      "Text: Glazer & Moynihan’s Beyond the Melting Pot Andrew Anglin\n",
      "------\n",
      "Predicted: 0, Actual: 1\n",
      "Text: ‘Bake shaming’ now a hate crime, say police dominic_mcg\n",
      "------\n",
      "Predicted: 0, Actual: 1\n",
      "Text: Migrants flee to nearby port towns after Calais camp shuts down Truth Broadcast Network\n",
      "------\n",
      "Predicted: 0, Actual: 1\n",
      "Text: TRUMPED: After Deceiving The American People, The New York Times Vows To Start ‘Reporting Honestly’ Geoffrey Grider\n",
      "------\n",
      "Predicted: 0, Actual: 1\n",
      "Text: James Bond wouldn’t make the grade in modern MI6, says Britain’s top spy admin\n",
      "------\n",
      "Predicted: 0, Actual: 1\n",
      "Text: NYT: Undocumented Student Denounces Free Speech on Immigration Policy Steve Sailer\n",
      "------\n",
      "Predicted: 0, Actual: 1\n",
      "Text: Michelle Obama Promotes Lewd Rappers pcr3\n",
      "------\n",
      "Predicted: 0, Actual: 1\n",
      "Text: Re: ‘Master jackass’? Sean Hannity inadvertently teaches valuable grammar lesson LinTaylor ✓vitrified\n",
      "------\n",
      "Predicted: 0, Actual: 1\n",
      "Text: Protest Song Of The Week: ‘Retribution’ by Tanya Tagaq Kevin Gosztola\n",
      "------\n"
     ]
    }
   ],
   "source": [
    "from sklearn.metrics import confusion_matrix, ConfusionMatrixDisplay\n",
    "\n",
    "# Plot Confusion Matrix\n",
    "cm = confusion_matrix(all_labels, all_preds)\n",
    "disp = ConfusionMatrixDisplay(confusion_matrix=cm, display_labels=[\"REAL\", \"FAKE\"])\n",
    "disp.plot(cmap='Blues')\n",
    "plt.title(\"Confusion Matrix\")\n",
    "plt.show()\n",
    "\n",
    "# Misclassified samples\n",
    "print(\"Misclassified Samples:\")\n",
    "for i in range(len(all_preds)):\n",
    "    if all_preds[i] != all_labels[i]:\n",
    "        print(f\"Predicted: {all_preds[i]}, Actual: {all_labels[i]}\")\n",
    "        print(f\"Text: {X_test[i]}\")  # Ensure X_test is correctly defined\n",
    "        print(\"------\")\n"
   ]
  },
  {
   "cell_type": "code",
   "execution_count": 47,
   "id": "bc145c50-8b79-471b-a23c-98d10d07beb2",
   "metadata": {},
   "outputs": [],
   "source": [
    "# torch.save(model.state_dict(), 'bert_model.pth')\n"
   ]
  },
  {
   "cell_type": "code",
   "execution_count": null,
   "id": "04cc550c-a02b-4a99-8c8f-c831f19899d1",
   "metadata": {},
   "outputs": [],
   "source": []
  }
 ],
 "metadata": {
  "kernelspec": {
   "display_name": "Python [conda env:base] *",
   "language": "python",
   "name": "conda-base-py"
  },
  "language_info": {
   "codemirror_mode": {
    "name": "ipython",
    "version": 3
   },
   "file_extension": ".py",
   "mimetype": "text/x-python",
   "name": "python",
   "nbconvert_exporter": "python",
   "pygments_lexer": "ipython3",
   "version": "3.10.16"
  }
 },
 "nbformat": 4,
 "nbformat_minor": 5
}
